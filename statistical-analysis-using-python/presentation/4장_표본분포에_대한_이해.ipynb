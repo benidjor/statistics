{
 "cells": [
  {
   "cell_type": "markdown",
   "metadata": {},
   "source": [
    "# 4장 표본분포에 대한 이해"
   ]
  },
  {
   "cell_type": "markdown",
   "metadata": {},
   "source": [
    "## 4. 1 표본\n",
    "- 현실적으로 모집단 전체를 조사할 수는 없다 → 전체는 미지의 집단 (이론적으로만 설명 가능)"
   ]
  },
  {
   "cell_type": "markdown",
   "metadata": {},
   "source": [
    "- `표본 : 이론적으로 설명할 수 밖에 없는 모집단의 일부로, 모집단으로부터 실제 얻어낸 구체적인 자료`\n",
    "\n",
    "- 통계학의 이론 전체 과정을 이해하기 위해서는, **구체적인 관찰값들로서 뿐만 아니라, 변수로서의 표본**을 이해할 필요가 있다\n",
    "    - 관찰값으로의 표본 (실제로 얻어진 표본)\n",
    "    <br><br>\n",
    "        $$\\{x_1, x_2, \\dots, x_9\\}$$ \n",
    "        <br><br>\n",
    "    - 변수로서의 표본\n",
    "    <br><br>\n",
    "        $$\\{X_1, X_2, \\dots, X_9\\}$$ \n",
    "        <br><br>\n",
    "        - 구체적인 값을 얻기 이전의 표본에 대한 이론적인 정의\n",
    "        \n",
    "        - <u>실제로 얻어진 표본은 이론적인 표본 (변수로서의 표본)의 구현된 값들이다</u>"
   ]
  },
  {
   "cell_type": "markdown",
   "metadata": {},
   "source": [
    "- `확률변수는 확률 분포를 따른다`\n",
    "    - 변수로서의 표본에서 $\\{X_1, X_2, \\dots, X_n\\}$에서 각각의 $X_i$들은 확률 변수이고, 모집단의 분포와 같은 분포를 하게 된다\n",
    "    <br><br>\n",
    "    $$X_1, X_2, \\dots, X_n \\overset{\\mathrm{iid}}{\\sim} f(x)$$ \n",
    "    <br><br>\n",
    "\n",
    "- $i.i.d$ : 똑같이 독립적으로 분포한다 (identically independently distributed)\n",
    "    - 독립 : 표본들끼리 서로 영향을 미치지 않는다\n",
    "\n",
    "- **확률변수들로서의 표본을 이해하는 것** <u>매우 중요</u>\n",
    "    - `통계 이론 전개가 모두 표본에서 시작하기 때문`\n",
    "    "
   ]
  },
  {
   "cell_type": "markdown",
   "metadata": {},
   "source": [
    "## 4. 2 통계량 (statistic)\n",
    "- 통계량이란 표본으로 부터 얻어진 어떤 것으로 정의\n",
    "\n",
    "    - $\\{X_1, X_2, \\dots, X_n\\}$ 또는 $\\{x_1, x_2, \\dots, x_n\\}$ 에서 얻어진 결과 : 통계량"
   ]
  },
  {
   "cell_type": "markdown",
   "metadata": {},
   "source": [
    "- **확률 변수 형태의 표본, $\\{X_1, X_2, \\dots, X_n\\}$으로 부터 얻어진 `통계량은 하나의 또 다른 확률 변수로서 어떤 분포를 따른다`**"
   ]
  },
  {
   "cell_type": "markdown",
   "metadata": {},
   "source": [
    "- 모수 (parameter) : 모집단에 대해 알고자 하는 값\n",
    "\n",
    "    - 모수의 값을 직접 알 수 없기 때문에, 통계량 (표본으로 부터 얻어진 값)으로 모수를 알아내고자 한다\n",
    "        - 이러한 과정이 추정\n",
    "\n",
    "    - `모수 중 가장 중요한 것 : 평균`\n",
    "        - 모집단 $(X)$의 무수히 많은 값을 대표하는 하나의 값으로 평균이라는 개념 사용\n",
    "        - 그래서 평균으로 그 모집단의 특성을 한마디로 표현하고자 하는 경우 많다"
   ]
  },
  {
   "cell_type": "markdown",
   "metadata": {},
   "source": [
    "<p align=\"center\">\n",
    "  <img src=\"https://www.playnexacro.com/repository/2015/04/post_image/20150421_b759e6d49bd44819b7d7831f929cbb79.jpg\">\n",
    "</p>"
   ]
  },
  {
   "cell_type": "markdown",
   "metadata": {},
   "source": [
    "## 4. 3 표본평균($\\overline{X}$)의 분포\n",
    "- 모집단에서 얻는 표본의 평균은 표본이 어떻게 얻어지는지에 따라 표본 평균 값이 달라진다\n",
    "\n",
    "- 이렇게 표본 평균 값이 여러개 존재할 수 있기 때문에 표본 평균 값의 분포가 존재\n",
    "    - 이것이 바로 `표본평균의 분포`"
   ]
  },
  {
   "cell_type": "markdown",
   "metadata": {},
   "source": [
    "<p align=\"center\">\n",
    "  <img src=\"https://raw.githubusercontent.com/angeloyeo/angeloyeo.github.io/master/pics/2021-01-05-confidence_interval/pic1.png\">\n",
    "</p>"
   ]
  },
  {
   "cell_type": "markdown",
   "metadata": {},
   "source": [
    "$$\\overline{X} = \\frac{x_1, \\dots, x_n}{n}$$ \n",
    "$$E(\\overline{X}) = \\mu$$\n",
    "$$Var(\\overline{X}) = \\sigma_{\\overline{X}}{^2} = \\frac{\\sigma^2}{n}$$"
   ]
  },
  {
   "cell_type": "markdown",
   "metadata": {},
   "source": [
    "#### `중심극한정리 (Central Limit Theorem)`\n",
    "- **모집단이 어떤 분포를 하더라도 표본의 크기 ($n=30$)가 충분히 클 경우, $\\overline{X}$는 정규분포를 따른다고 할 수 있다**\n",
    "\n",
    "<br><br>\n",
    "$$\\overline{X}  {\\sim}  N (\\mu, \\frac{\\sigma^2}{n})$$ \n",
    "\n"
   ]
  },
  {
   "cell_type": "markdown",
   "metadata": {},
   "source": [
    "- 중심극한 정리가 중요한 이유\n",
    "\n",
    "    - 표본 평균의 분포를 정규분포로 취급해도 좋다는 기준을 설정\n",
    "    \n",
    "    - **모집단이 어떤 분포를 따르는지 모르더라도, <u>표본 평균 $\\overline{X}$에 대한 분포가 정규분포를 따른다는 근거</u>**\n",
    "\n",
    "- sample size ($n>=30$) : 통계학자들이 경험적으로 설정한 숫자일 뿐, 중심극한정리를 적용할 때 절대적인 기준은 아니다\n",
    "\n",
    "- [중심극한정리 성립 시뮬레이션 웹사이트](https://onlinestatbook.com/stat_sim/sampling_dist/index.html)"
   ]
  },
  {
   "cell_type": "markdown",
   "metadata": {},
   "source": [
    "\n",
    "\n",
    "<p align=\"center\">\n",
    "  <img src=\"https://img1.daumcdn.net/thumb/R1280x0/?scode=mtistory2&fname=https%3A%2F%2Fblog.kakaocdn.net%2Fdn%2Fy9s8w%2FbtqysNUSVom%2F5KQ0lhT5NHkU6OTveGKkU1%2Fimg.png\">\n",
    "</p>"
   ]
  },
  {
   "cell_type": "markdown",
   "metadata": {},
   "source": [
    "## 4. 4 표본 비율의 분포\n",
    "- 비율 : 특정 성질을 갖는 개체들의 전체에 대한 백분비\n",
    "\n",
    "    - ex) 성공률, 불량률, 지지율, 사망률, 시청률 등등"
   ]
  },
  {
   "cell_type": "markdown",
   "metadata": {},
   "source": [
    "- 예시) 서울시 유권자(모집단)의 특정 정치인에 대한 지지율 $p$\n",
    "    \n",
    "    - 지지율 $p$를 조사하기 위한 자료에 대한 확률변수 $X$는 베르누이 분포를 따른다\n",
    "    <br><br>\n",
    "\n",
    "    $$X = \\begin{Bmatrix} 1, 지지할 경우 \\\\ 0, 지지하지 않을 경우 \\end{Bmatrix}$$\n",
    "    <br><br>\n",
    "    $$ X_1 + X_2 + \\dot + X_n = 지지자의 수 $$\n",
    "\n",
    "    <br><br>\n",
    "    - 따라서 표본으로 부터 얻어지는 표본비율 $\\hat{p}$<br><br>\n",
    "\n",
    "    $$ \\hat{p} = \\frac{지지자의 수}{n} = \\frac{X_1 + X_2 + \\dots + X_n}{n} $$\n",
    "    <br><br>\n",
    "    - 여기서 $\\hat{p}$는 확률 변수이며 표본 평균의 개념이기 때문에, $n$이 충분히 클 경우 중심극한정리에 따라 아래의 수식이 성립한다<br><br>\n",
    "\n",
    "    $$ \\hat{p} \\sim N(p, \\frac{p(1-p)}{n})$$\n",
    "    <br><br>\n",
    "\n",
    "    - 표본비율의 분포는 베르누이 분포를 갖는 자료 (모집단)에 대한 중심극한정리 적용의 예\n",
    "\n",
    "        - 가장 단순한 분포인 베르누이 분포를 하는 모집단으로 부터 얻어지는 표본평균 ($\\hat{p}$)도 표본의 크기만 충분하다면 정규분포에 근사한다\n",
    "        \n",
    "    - 표본의 크기가 작다면, 비율은 안정적(stable)하지 못하기 때문에 무의미하다\n",
    "    "
   ]
  },
  {
   "cell_type": "markdown",
   "metadata": {},
   "source": [
    "## 4. 5 표본 분산의 분포"
   ]
  },
  {
   "cell_type": "markdown",
   "metadata": {},
   "source": [
    "### 카이제곱분포 (Chi-Square distribution)\n",
    "- 모집단이 정규분포 할 때, 이 모집단으로 부터 얻은 표본 ${X_1, X_2, \\dots, X_n}$으로\n",
    "$$ x^2 = \\sum_{i=1}^n(\\frac{X_i - \\mu}{\\sigma})^2 $$\n",
    "\n",
    "&emsp;&emsp;&emsp;를 얻으면 $x^2$는 자유도 $n$인 카이제곱분포를 따른다"
   ]
  },
  {
   "cell_type": "markdown",
   "metadata": {},
   "source": [
    "- 중요한 것은, 자유도가 $n$이라는 것이다\n",
    "\n",
    "- 카이제곱분포는 표준화 정규분포 변수의 제곱합으로 얻어지며, $ (X_i - \\mu) / \\sigma $를 제곱하여 합한 것에 대한 이론적인 분포이다\n",
    "\n",
    "<br><br>\n",
    "\n",
    "- **카이제곱분포는 자유도가 커질 수록, 빠른 속도로 정규분포에 접근한다**\n",
    "\n",
    "    - 더한 것이기 때문에, <u>더해주는 변수의 수가 많아질 수록</u> **정규분포에 가까워 진다 `(중심극한정리)`**\n",
    "\n",
    "    - 카이제곱분포는 분류된 자료의 분석, 판별분석 등에서 다룬다"
   ]
  },
  {
   "cell_type": "markdown",
   "metadata": {},
   "source": [
    "- 자유도 3인 카이제곱분포를 얻는 과정\n",
    "<p align=\"center\">\n",
    "  <img src=\"https://raw.githubusercontent.com/angeloyeo/angeloyeo.github.io/master/pics/2021-12-13-chi_square/pic4.png\">\n",
    "</p>\n",
    "\n",
    "<br>\n",
    "\n",
    "- 자유도 1 ~ 4에 대응되는 카이제곱분포\n",
    "<p align=\"center\">\n",
    "  <img src=\"https://raw.githubusercontent.com/angeloyeo/angeloyeo.github.io/master/pics/2021-12-13-chi_square/pic7.png\">\n",
    "</p>\n"
   ]
  },
  {
   "cell_type": "markdown",
   "metadata": {},
   "source": [
    "- 카이제곱분포의 쓸모\n",
    "    \n",
    "    - 카이제곱분포는 **오차 (error) 혹은 편차 (deviation)을 분석할 때 도움을 받을 수 있는 분포**\n",
    "    \n",
    "    - 우리는 보통 error를 정규분포로 설계한다\n",
    "\n",
    "        - ex) **회귀분석을 이용한 모델 제작시, 우리가 얻은 데이터들은 모델의 출력값을 중심으로 하는 정규분포에서 랜덤하게  샘플링되어 얻은 값이라고 본다**\n",
    "\n",
    "        - 그림. 회귀분석시 오차에 대한 분포 설정\n",
    "\n",
    "        <p align=\"center\">\n",
    "        <img src=\"https://i.sstatic.net/Wqrn4.png\">\n",
    "        </p>\n",
    "\n",
    "        <br>\n",
    "\n",
    "        - 또한, **중심극한정리에 따라 샘플수가 무수히 많고 합(sum)을 이용해 오차를 정의하는 경우, 오차의 분포는 정규분포를 따르게된다**\n",
    "    <br><br>\n",
    "    - 따라서 오차 혹은 편차에 대한 분석을 수행할 때 카이제곱분포를 이용\n",
    "\n",
    "        - **오차 혹은 편차가 우연히 발생할 수 있다고 볼 수 있는 수준인지, 그렇지 않은지를 판별할 수 있게 된다**\n",
    "    <br><br>\n",
    "\n",
    "    - 적합도 검정 (goodness-of-fit test)과 교차 분석 (cross tabulation analysis)를 이용할 때 카이제곱분포를 주로 이용한다\n",
    "\n",
    "- 출처\n",
    "    - [공돌이의 수학정리노트 - 카이제곱 분포와 검정](https://angeloyeo.github.io/2021/12/13/chi_square.html)"
   ]
  },
  {
   "cell_type": "markdown",
   "metadata": {},
   "source": [
    "- 표본에서 얻은 표본 분산\n",
    "    $$ S^2 = \\frac{\\sum_{}(X_i - \\overline{X})^2}{n-1} $$\n",
    "    <br><br>\n",
    "    - 이를 변형시켜, $(n-1)/S^2/\\sigma^2$에 대한 분포를 고려해 본다\n",
    "        $$ \\frac{(n-1)S^2}{\\sigma^2} = \\frac{\\sum_{i=1}^n(X_i - \\overline{X})^2}{\\sigma^2} = \\sum_{i=1}^n(\\frac{X_i-\\overline{X}}{\\sigma})^2$$\n",
    "        <br>\n",
    "    - 위 식은 **자유도 $(n-1)$의 카이제곱분포를 따르게 된다**\n",
    "    \n",
    "        - $\\mu$를 $\\overline{X}$로 추정한 것에 차이가 존재\n",
    "        \n",
    "            - <u>$\\mu$를 $\\overline{X}$로 추정했기 때문에, 자유도를 하나 잃게 된다</u>\n",
    "    \n",
    "        - **$S^2$의 분포 보다는 $\\frac{(n-1)S^2}{\\sigma^2}$의 분포를 얻어야 한다**"
   ]
  },
  {
   "cell_type": "markdown",
   "metadata": {},
   "source": [
    "## 4. 6 표본추출 방법\n",
    "\n",
    "- 실제 조사 업무에서 표본을 제대로 얻는 것은 중요하다\n",
    "\n",
    "- 표본을 얻기 위해서는 모집단에 대한 대표성이 확실히 보장될 수 있는 추출 방법을 선정해야 한다\n",
    "\n",
    "    - 확률적 추출 / 비확률적 추출로 나눌 수 있다"
   ]
  },
  {
   "cell_type": "markdown",
   "metadata": {},
   "source": [
    "### 4. 6. 1 확률적 추출\n",
    "\n",
    "- 모집단을 구성하고 있는 모든 요소가 표본으로 선정될 수 있다"
   ]
  },
  {
   "cell_type": "markdown",
   "metadata": {},
   "source": [
    "(1) 단순 무작위 추출 (Simple Random Sampling)\n",
    "\n",
    "- 모집단을 구성하고 있는 각 개체가 표본으로 뽑힐 가능성이 같게 하는 추출 방법\n",
    "<br><br>\n",
    "\n",
    "(2) 층화추출 (Stratified Sampling)\n",
    "\n",
    "- 모집단을 성격에 따라 여러 집단(층)으로 구분한 다음, 각 층에서 일정 크기 표본을 얻는 방법\n",
    "\n",
    "    - 모집단을 여러 집단(층)으로 나누면 각 집단(층) 내에서 개체들이 조사 목적에 동질적 (homogeneous)이어야 한다\n",
    "<br><br>\n",
    "\n",
    "(3) 군집추출 (Cluster Sampling)\n",
    "\n",
    "- 모집단이 몇 개의 집단들로 구성되어 있다고 간주\n",
    "\n",
    "    - 집단 속에서 몇 개의 소집단을 뽑아 그 집단의 구성 요소를 모두 표본으로 추출\n",
    "<br><br>\n",
    "\n",
    "(4) 체계적 추출 (Systematic Sampling)\n",
    "\n",
    "- 모집단의 요소들에 일련번호를 부여하고 매 10번째 또는 매 100번째 번호에 해당하는 표본을 얻는 방법"
   ]
  },
  {
   "cell_type": "markdown",
   "metadata": {},
   "source": [
    "## 4. 6. 2 비확률적 추출\n",
    "- 모집단에 대한 정보가 없거나 확률적 추출이 어려울 경우, 연구자의 주관에 의해 추출"
   ]
  },
  {
   "cell_type": "markdown",
   "metadata": {},
   "source": [
    "(1) 편의추출 (Convenience Sampling)\n",
    "- 용어 그대로 편리하게 표본을 추출하는 방법\n",
    "\n",
    "    - 표본은 모집단을 대표해야만 한다는 전제가 되어 있으면, 시간과 비용 줄이면서도 모집단을 대표하는 데 손색이 없는 표본 추출 방식\n",
    "<br><br>\n",
    "\n",
    "(2) 판단추출 (Judgement Sampling)\n",
    "- 모집단의 특성에 대해 잘 알고 있는 전문가의 판단에 따라 표본을 추출하는 방법\n",
    "\n",
    "    - 어느 정도의 편향은 각오하더라도 모집단 중 일부인 특정 집단에 대해서만 표본을 추출할 수 도 있다"
   ]
  },
  {
   "cell_type": "markdown",
   "metadata": {},
   "source": []
  },
  {
   "cell_type": "markdown",
   "metadata": {},
   "source": []
  }
 ],
 "metadata": {
  "language_info": {
   "name": "python"
  }
 },
 "nbformat": 4,
 "nbformat_minor": 2
}
