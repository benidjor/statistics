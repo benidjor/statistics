{
 "cells": [
  {
   "cell_type": "markdown",
   "id": "33d91d60",
   "metadata": {},
   "source": [
    "# 7장 분류된 자료(범주형)에 대한 분석"
   ]
  },
  {
   "cell_type": "markdown",
   "id": "13f924b3",
   "metadata": {},
   "source": [
    "- 범주형 자료\n",
    "    - **카테고리(category)** 중 어디에 속하는가를 조사한 자료\n",
    "    - *ex) 연령대, 소득 범위 등*"
   ]
  },
  {
   "cell_type": "markdown",
   "id": "0737d2cd",
   "metadata": {},
   "source": [
    "---"
   ]
  },
  {
   "cell_type": "markdown",
   "id": "d393fa1b",
   "metadata": {},
   "source": [
    "## 7.1 다항분포"
   ]
  },
  {
   "cell_type": "markdown",
   "id": "6c431490",
   "metadata": {},
   "source": [
    "- 범주형은 흔히 수학에서 말하는 **이산형**의 개념과 유사\n",
    "    - 연속형에 대척점에 있는 개념\n",
    "    - *ex) 주사위의 눈은 6가지 범주 중 하나의 값을 가지는 범주형 자료*\n",
    "\n",
    "\n",
    "- 다항분포(multinominal distribution)\n",
    "    - 범주형 변수 $(X_1, X_2, \\space ... \\space , X_k)$의 분포를 의미\n",
    "    - $\\sum\\limits_{i=1}^k X_i = n$, $\\sum\\limits_{i=1}^k p_i = 1$\n",
    "    - $E(X_i) = np_i$\n",
    "\n",
    "\n",
    "- 이항분포(binominal distribution)\n",
    "    - 범주가 **2개**인 다항분포\n",
    "    - 이는 베르누이 시행을 n번 반복했을 때의 결과로도 설명할 수 있음"
   ]
  },
  {
   "cell_type": "markdown",
   "id": "fa324588",
   "metadata": {},
   "source": [
    "---"
   ]
  },
  {
   "cell_type": "markdown",
   "id": "26c2a1eb",
   "metadata": {},
   "source": [
    "## 7.2 적합도검정"
   ]
  },
  {
   "cell_type": "markdown",
   "id": "b8e41d5d",
   "metadata": {},
   "source": [
    "- 적합도검정(goodness-of-fit test)\n",
    "    - 자료가 특정 **분포를 따르는지** 검정하는 것\n",
    "    - *ex) 자료가 정규분포를 따르는지? (=**정규성 검정**)*\n",
    "    - *ex) 모서리가 깨진 주사위도 공정한지? (=모든 눈이 나올 확률이 동일한지?)*\n",
    "        - $H_0$: 주사위의 모든 눈이 나올 확률은 $\\frac{1}{6}$이다. ($p_{i} = \\frac{1}{6}$)\n",
    "        - $H_1$: 주사위의 모든 눈 중 적어도 하나의 눈은 나올 확률이 $\\frac{1}{6}$이 아니다. ($p_{i} \\neq \\frac{1}{6}$)\n",
    "        \n",
    "        \n",
    "- **기대도수($E_i$)와 관측도수($X_i$)의 차이**에 따라 $H_0$ 기각 여부 결정\n",
    "    - 이는 편차의 개념과 유사하기 때문에 검정통계량으로 **카이제곱** 활용 (자유도 $k-1$)\n",
    "    $$\\chi^2 = \\sum\\limits_{i=1}^k \\frac{(X_i - E_i)^2}{E_i}$$\n",
    "\n",
    "\n",
    "- 표본의 크기가 **충분히 커야** 카이제곱 적합도 검정을 수행할 수 있음\n",
    "    - $E_i < 5$인 범주가 전체의 **20%** 를 넘는 경우 카이제곱 적합도 검정을 사용하지 않음\n",
    "    - 이 경우 **크레머 법칙(Cramer Rule)** 활용하여 이웃 항목과 통합시키는 조정 과정 필요"
   ]
  },
  {
   "cell_type": "markdown",
   "id": "0af3a906",
   "metadata": {},
   "source": [
    "---"
   ]
  },
  {
   "cell_type": "markdown",
   "id": "1f981fbd",
   "metadata": {},
   "source": [
    "## 7.3 독립성검정"
   ]
  },
  {
   "cell_type": "markdown",
   "id": "929bcb18",
   "metadata": {},
   "source": [
    "- 독립성검정(independence test)\n",
    "    - 자료를 분류하는 두 변수 간에 **서로 관련이 없는지** 확인\n",
    "\n",
    "\n",
    "- 독립성 검정 시 주로 **분할표(contingency table)** 이용\n",
    "    - 연속형 변수도 **범주화**하여 분할표 작성할 수는 있음\n",
    "    |  | 저소득 | 평균 소득 | 고소득 | 합계 |\n",
    "    | --- | --- | --- | --- | --- |\n",
    "    | 찬성 | 182 | 213 | 203 | 598 |\n",
    "    | 반대 | 154 | 138 | 110 | 402 |\n",
    "    | 합계 | 336 | 351 | 313 | 1000 |\n",
    "\n",
    "\n",
    "- 분할표 상에서의 기대도수($E_{ij}$)와 관측도수($X_{ij}$)의 차이에 대해 자유도 $(p-1)(q-1)$인 **카이제곱 검정** 시행\n",
    "    - $H_0$: A와 B는 독립이다.\n",
    "    - $H_0$: A와 B는 독립이 아니다.\n",
    "    $$\\chi^2 = \\sum\\limits_{i=1}^p \\sum\\limits_{j=1}^q \\frac{(X_{ij} - E_{ij})^2}{E_{ij}}$$\n",
    "    $$\\hat{E_{ij}} = n \\times (\\frac{n_{i.}}{n}) \\times (\\frac{n_{.j}}{n})$$"
   ]
  },
  {
   "cell_type": "markdown",
   "id": "bc857fd3",
   "metadata": {},
   "source": [
    "---"
   ]
  },
  {
   "cell_type": "markdown",
   "id": "b0ff38ad",
   "metadata": {},
   "source": [
    "## 7.4 동질성검정"
   ]
  },
  {
   "cell_type": "markdown",
   "id": "bde8d540",
   "metadata": {},
   "source": [
    "- 동질성검정(homogeneity test)\n",
    "    - 여러 범주에서 특정 **변수의 분포**가 동일한지 검정\n",
    "        - $H_0$: $r$개 집단에 대해, 모든 $A$의 분포는 같다.\n",
    "        - $H_1$: $r$개 집단에 대해, 적어도 하나의 $A$의 분포는 다르다.\n",
    "\n",
    "\n",
    "- 동질성검정과 독립성검정은 표현 방법이 조금 다를 뿐 **절차 동일**\n",
    "    - 독립성검정: 전체 표본에서 두 변수의 관계\n",
    "    - 동질성검정: 각 범주에 대한 표본에서 하나의 변수의 분포"
   ]
  },
  {
   "cell_type": "markdown",
   "id": "5fe10296",
   "metadata": {},
   "source": [
    "---"
   ]
  },
  {
   "cell_type": "markdown",
   "id": "763ec81b",
   "metadata": {},
   "source": [
    "## 7.5 연관성 척도"
   ]
  },
  {
   "cell_type": "markdown",
   "id": "02be68af",
   "metadata": {},
   "source": [
    "- 연관성 척도(measure of association)\n",
    "    - 분할표 상에서 두 **범주형 변수 간의 상관관계**를 나타내는 척도"
   ]
  },
  {
   "cell_type": "markdown",
   "id": "1f58b1f0",
   "metadata": {},
   "source": [
    "### 7.5.1 파이\n",
    "\n",
    "$$\\phi = \\sqrt{\\frac{\\chi^{2}}{n}}$$\n",
    "\n",
    "- 2 x 2 분할표(변수 2개, 분류 2가지)에 적합\n",
    "- $-1 \\le \\phi \\le 1$의 범위를 가짐\n",
    "    - $\\phi = 0$: 두 변수 사이에 관계가 없음\n",
    "    - $\\phi = 1$ or $\\phi = -1$: 완전한 양의 or 음의 관계"
   ]
  },
  {
   "cell_type": "markdown",
   "id": "3d0d6e76",
   "metadata": {},
   "source": [
    "### 7.5.2 크레머\n",
    "\n",
    "$$V = \\frac{\\phi}{\\sqrt{min((p-1), (q-1))}}$$\n",
    "\n",
    "- 파이를 더 큰 차원으로 확장한 버전"
   ]
  },
  {
   "cell_type": "markdown",
   "id": "21841999",
   "metadata": {},
   "source": [
    "### 7.5.3 분할계수\n",
    "\n",
    "$$C = \\sqrt{\\frac{\\chi^{2}}{\\chi^{2}+n}}$$\n",
    "\n",
    "- 분할표에서 일반적으로 널리 사용\n",
    "- $0 \\le C \\le 1$의 범위를 가짐\n",
    "    - $C = 0$: 두 변수 사이에 관계가 없음\n",
    "    - $C = 1$: 완전한 관계 (실제로는 1에 도달하지 않음)"
   ]
  },
  {
   "cell_type": "markdown",
   "id": "646d6596",
   "metadata": {},
   "source": [
    "### 7.5.4 람다\n",
    "\n",
    "$$\\lambda = \\frac{E1 - E2}{E1}$$\n",
    "\n",
    "- 인과관계에 따른 오류를 파악하는 척도\n",
    "- 비대칭 계수"
   ]
  }
 ],
 "metadata": {
  "kernelspec": {
   "display_name": "Python 3 (ipykernel)",
   "language": "python",
   "name": "python3"
  },
  "language_info": {
   "codemirror_mode": {
    "name": "ipython",
    "version": 3
   },
   "file_extension": ".py",
   "mimetype": "text/x-python",
   "name": "python",
   "nbconvert_exporter": "python",
   "pygments_lexer": "ipython3",
   "version": "3.9.16"
  },
  "toc": {
   "base_numbering": 1,
   "nav_menu": {},
   "number_sections": false,
   "sideBar": true,
   "skip_h1_title": false,
   "title_cell": "Table of Contents",
   "title_sidebar": "Contents",
   "toc_cell": false,
   "toc_position": {},
   "toc_section_display": true,
   "toc_window_display": false
  }
 },
 "nbformat": 4,
 "nbformat_minor": 5
}
