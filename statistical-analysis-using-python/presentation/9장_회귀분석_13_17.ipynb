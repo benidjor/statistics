{
 "cells": [
  {
   "cell_type": "markdown",
   "id": "33d91d60",
   "metadata": {},
   "source": [
    "# 9장 회귀분석 (3)"
   ]
  },
  {
   "cell_type": "markdown",
   "id": "0737d2cd",
   "metadata": {},
   "source": [
    "---"
   ]
  },
  {
   "cell_type": "markdown",
   "id": "d393fa1b",
   "metadata": {},
   "source": [
    "## 9.13 교호모형"
   ]
  },
  {
   "cell_type": "markdown",
   "id": "6c431490",
   "metadata": {},
   "source": [
    "- 교호모형(interaction model)\n",
    "    - 설명변수($X$)들끼리 **서로 영향을 끼치는** 회귀 모형\n",
    "    - 교호항($\\beta_{3}x_{1}x_{2}$)을 추가하여 설명력을 높임\n",
    "$$Y = \\beta_{0} + \\beta_{1}x_{1} + \\beta_{2}x_{2} + \\beta_{3}x_{1}x_{2} + \\epsilon$$"
   ]
  },
  {
   "cell_type": "markdown",
   "id": "fa324588",
   "metadata": {},
   "source": [
    "---"
   ]
  },
  {
   "cell_type": "markdown",
   "id": "c5c902a7",
   "metadata": {},
   "source": [
    "## 9.14 꺾은선 회귀모형"
   ]
  },
  {
   "cell_type": "markdown",
   "id": "6949156b",
   "metadata": {},
   "source": [
    "- 꺾은선 회귀모형\n",
    "    - $X$의 범위에 따라 **회귀선이 다른** 모형 *ex) 생산량이 1000개를 넘어가면 생산단가가 크게 달라지는 경우*\n",
    "    - 서로 다른 $\\beta$(절편, 기울기)들을 가지는 직선이 꺾여 있는 형태 (a.k.a 미분 불가능)\n",
    "    \n",
    "    \n",
    "- 점프를 포함한 꺾은선 회귀모형\n",
    "    - 회귀선이 꺾이는 점에서 **점프**하면서 다른 기울기를 갖는 경우 (a.k.a 불연속)"
   ]
  },
  {
   "cell_type": "markdown",
   "id": "0af3a906",
   "metadata": {},
   "source": [
    "---"
   ]
  },
  {
   "cell_type": "markdown",
   "id": "67067489",
   "metadata": {},
   "source": [
    "## 9.15 두 개 이상의 회귀선 비교"
   ]
  },
  {
   "cell_type": "markdown",
   "id": "d8ed0191",
   "metadata": {},
   "source": [
    "- 다른 모집단에서 얻은 회귀모형에 대한 가설 검정 *ex) 대도시지역과 기타지역의 회귀선이 일치하는지?*\n",
    "    - 다음과 같이 가설 설정\n",
    "        - $H_{0}$: 두 집단의 회귀선은 일치한다.\n",
    "        - $H_{1}$: 어떤 $i$에 대해 $\\beta_{i} \\neq 0$이다.\n",
    "    - 오차항이 등분산 가정을 만족하는지 확인해야 함\n",
    "    \n",
    "    \n",
    "- 차우 검정(Chow Test) 활용하여 두 회귀선이 일치하는지 확인할 수 있음"
   ]
  },
  {
   "cell_type": "markdown",
   "id": "bc857fd3",
   "metadata": {},
   "source": [
    "---"
   ]
  },
  {
   "cell_type": "markdown",
   "id": "f544fc75",
   "metadata": {},
   "source": [
    "## 9.16 자기상관"
   ]
  },
  {
   "cell_type": "markdown",
   "id": "57f32513",
   "metadata": {},
   "source": [
    "- 자기상관(autocorrelation)\n",
    "    - 회귀모형에서 오차($\\epsilon$) 간의 상관관계가 높음을 의미\n",
    "    - 시계열 데이터인 경우 **과거 시점**의 영향을 받기 때문에 일반적인 회귀모형의 **오차항 가정**이 **성립하지 않을 수 있음**\n",
    "        - 오차항 가정: 오차항은 서로 독립이고 동일한 분포(정규분포)를 따른다\n",
    "        \n",
    "\n",
    "- 오차 모형\n",
    "    - 1차 자기상관: $\\epsilon_{t}$가 바로 직전 시점의 오차($\\epsilon_{t-1}$)와 관련이 있는 경우를 의미\n",
    "    $$\\epsilon_{t} = k\\epsilon_{t-1} + U_{t}$$\n",
    "        - $k$: 자기상관계수 ($0 \\le k \\le 1$)\n",
    "        - $U_{t}$: 백색잡음\n",
    "\n",
    "\n",
    "- 더빈-왓슨 검정\n",
    "    - 자기상관계수 $k$를 통해 **자기상관이 존재**하는지를 확인하는 검정 ($k = 0$이면 자기상관이 없음)\n",
    "        - $H_{0}$: $k = 0$\n",
    "        - $H_{1}$: $k \\neq 0$\n",
    "    - 더빈-왓슨 검정통계량\n",
    "        - $DW$가 0에 가까울수록 양의 자기상관 ($k > 0$)\n",
    "        - $DW$가 2에 가까울수록 자기상관 미존재 ($k = 0$)\n",
    "        - $DW$가 4에 가까울수록 음의 자기상관 ($k < 0$)\n",
    "    - 현실의 문제에서, 만약 자기상관이 존재한다면 이전 시점의 값과 현 시점의 값은 대부분 양의 자기상관($k > 0$)을 가짐\n",
    "    \n",
    "\n",
    "- 코크레인-어컷트 방법\n",
    "    - 1차 자기상관이 있는 회귀모형에 대한 접근법\n",
    "    - 1단계: 자기상관계수 $\\hat{k}$ 추정\n",
    "        - 회귀모형 적합하여 잔차 $\\epsilon_{t}$ 계산\n",
    "        - 잔차 $\\epsilon_{t}$에 대한 자기상관계수 $\\hat{k}$ 추정 ($\\epsilon_{t} = k\\epsilon_{t - 1} + U_{t}$)\n",
    "        $$\\hat{k} = \\frac{\\sum_{t=2}^{n} \\epsilon_{t - 1}\\epsilon_{t}}{\\sum_{t=2}^{n} \\epsilon_{t - 1}^{2}}$$\n",
    "    - 2단계: 변환된 회귀모형 적합\n",
    "        - $\\hat{k}$ 활용하여 회귀모형 변환\n",
    "        $$Y_{t} - kY_{t - 1} = \\beta_{0}(1 - k) + \\beta_{1}(x_{t} - kx_{t - 1}) + U_{t}$$\n",
    "    - 다시 1단계로 돌아가서 반복 적용"
   ]
  },
  {
   "cell_type": "markdown",
   "id": "cc9b0db0",
   "metadata": {},
   "source": [
    "---"
   ]
  },
  {
   "cell_type": "markdown",
   "id": "df90387c",
   "metadata": {},
   "source": [
    "## 9.17 가중최소제곱법"
   ]
  },
  {
   "cell_type": "markdown",
   "id": "81828964",
   "metadata": {},
   "source": [
    "- 가중최소제곱법(weighted least squares method)\n",
    "    - 오차의 등분산성이 성립되지 않는 회귀모형에서 모수를 추정하는 방법\n",
    "    - 오차의 **분산이 같도록** 모형을 변형시킨 후 최소제곱법 적용 (a.k.a 각 데이터포인트에 다른 가중치를 줌)\n",
    "        - 일반적으로 분산의 역수를 가중치로 줌"
   ]
  }
 ],
 "metadata": {
  "kernelspec": {
   "display_name": "Python 3 (ipykernel)",
   "language": "python",
   "name": "python3"
  },
  "language_info": {
   "codemirror_mode": {
    "name": "ipython",
    "version": 3
   },
   "file_extension": ".py",
   "mimetype": "text/x-python",
   "name": "python",
   "nbconvert_exporter": "python",
   "pygments_lexer": "ipython3",
   "version": "3.9.16"
  },
  "toc": {
   "base_numbering": 1,
   "nav_menu": {},
   "number_sections": false,
   "sideBar": true,
   "skip_h1_title": false,
   "title_cell": "Table of Contents",
   "title_sidebar": "Contents",
   "toc_cell": false,
   "toc_position": {},
   "toc_section_display": true,
   "toc_window_display": false
  }
 },
 "nbformat": 4,
 "nbformat_minor": 5
}
