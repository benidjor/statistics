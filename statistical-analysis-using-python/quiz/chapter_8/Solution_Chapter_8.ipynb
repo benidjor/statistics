{
 "cells": [
  {
   "cell_type": "code",
   "execution_count": 1,
   "metadata": {},
   "outputs": [],
   "source": [
    "import pandas as pd\n",
    "import numpy as np\n",
    "import statsmodels.api as sm\n",
    "import statsmodels.formula.api as smf"
   ]
  },
  {
   "cell_type": "markdown",
   "metadata": {},
   "source": [
    "### 문제 1\n",
    "\n",
    "- 아래 데이터는 콘크리트 골재에 따른 콘크리트의 평균 수분 흡수율을 나타내고 있다. 콘크리트에 따른 집단은 서로 독립적이며, 모든 집단은 분산이 일정하고 정규분포를 따른다고 가정한다. 물음에 답하시오."
   ]
  },
  {
   "cell_type": "code",
   "execution_count": 2,
   "metadata": {},
   "outputs": [
    {
     "data": {
      "text/html": [
       "<div>\n",
       "<style scoped>\n",
       "    .dataframe tbody tr th:only-of-type {\n",
       "        vertical-align: middle;\n",
       "    }\n",
       "\n",
       "    .dataframe tbody tr th {\n",
       "        vertical-align: top;\n",
       "    }\n",
       "\n",
       "    .dataframe thead th {\n",
       "        text-align: right;\n",
       "    }\n",
       "</style>\n",
       "<table border=\"1\" class=\"dataframe\">\n",
       "  <thead>\n",
       "    <tr style=\"text-align: right;\">\n",
       "      <th></th>\n",
       "      <th>gol_1</th>\n",
       "      <th>gol_2</th>\n",
       "      <th>gol_3</th>\n",
       "      <th>gol_4</th>\n",
       "      <th>gol_5</th>\n",
       "    </tr>\n",
       "  </thead>\n",
       "  <tbody>\n",
       "    <tr>\n",
       "      <th>0</th>\n",
       "      <td>551</td>\n",
       "      <td>595</td>\n",
       "      <td>639</td>\n",
       "      <td>417</td>\n",
       "      <td>563</td>\n",
       "    </tr>\n",
       "    <tr>\n",
       "      <th>1</th>\n",
       "      <td>457</td>\n",
       "      <td>580</td>\n",
       "      <td>615</td>\n",
       "      <td>449</td>\n",
       "      <td>631</td>\n",
       "    </tr>\n",
       "    <tr>\n",
       "      <th>2</th>\n",
       "      <td>450</td>\n",
       "      <td>508</td>\n",
       "      <td>511</td>\n",
       "      <td>517</td>\n",
       "      <td>522</td>\n",
       "    </tr>\n",
       "    <tr>\n",
       "      <th>3</th>\n",
       "      <td>731</td>\n",
       "      <td>583</td>\n",
       "      <td>573</td>\n",
       "      <td>438</td>\n",
       "      <td>613</td>\n",
       "    </tr>\n",
       "    <tr>\n",
       "      <th>4</th>\n",
       "      <td>499</td>\n",
       "      <td>633</td>\n",
       "      <td>648</td>\n",
       "      <td>415</td>\n",
       "      <td>656</td>\n",
       "    </tr>\n",
       "    <tr>\n",
       "      <th>5</th>\n",
       "      <td>632</td>\n",
       "      <td>517</td>\n",
       "      <td>677</td>\n",
       "      <td>555</td>\n",
       "      <td>679</td>\n",
       "    </tr>\n",
       "  </tbody>\n",
       "</table>\n",
       "</div>"
      ],
      "text/plain": [
       "   gol_1  gol_2  gol_3  gol_4  gol_5\n",
       "0    551    595    639    417    563\n",
       "1    457    580    615    449    631\n",
       "2    450    508    511    517    522\n",
       "3    731    583    573    438    613\n",
       "4    499    633    648    415    656\n",
       "5    632    517    677    555    679"
      ]
     },
     "execution_count": 2,
     "metadata": {},
     "output_type": "execute_result"
    }
   ],
   "source": [
    "data_1 = pd.DataFrame({\"gol_1\":[551, 457, 450, 731, 499, 632],\n",
    "                       \"gol_2\":[595, 580, 508, 583, 633, 517],\n",
    "                       \"gol_3\":[639, 615, 511, 573, 648, 677],\n",
    "                       \"gol_4\":[417, 449, 517, 438, 415, 555],\n",
    "                       \"gol_5\":[563, 631, 522, 613, 656, 679]})\n",
    "data_1"
   ]
  },
  {
   "cell_type": "markdown",
   "metadata": {},
   "source": [
    "#### 1-1. 분산분석이 가능하도록 데이터를 가공하시오."
   ]
  },
  {
   "cell_type": "code",
   "execution_count": 3,
   "metadata": {},
   "outputs": [
    {
     "data": {
      "text/html": [
       "<div>\n",
       "<style scoped>\n",
       "    .dataframe tbody tr th:only-of-type {\n",
       "        vertical-align: middle;\n",
       "    }\n",
       "\n",
       "    .dataframe tbody tr th {\n",
       "        vertical-align: top;\n",
       "    }\n",
       "\n",
       "    .dataframe thead th {\n",
       "        text-align: right;\n",
       "    }\n",
       "</style>\n",
       "<table border=\"1\" class=\"dataframe\">\n",
       "  <thead>\n",
       "    <tr style=\"text-align: right;\">\n",
       "      <th></th>\n",
       "      <th>variable</th>\n",
       "      <th>value</th>\n",
       "    </tr>\n",
       "  </thead>\n",
       "  <tbody>\n",
       "    <tr>\n",
       "      <th>0</th>\n",
       "      <td>gol_1</td>\n",
       "      <td>551</td>\n",
       "    </tr>\n",
       "    <tr>\n",
       "      <th>1</th>\n",
       "      <td>gol_1</td>\n",
       "      <td>457</td>\n",
       "    </tr>\n",
       "    <tr>\n",
       "      <th>2</th>\n",
       "      <td>gol_1</td>\n",
       "      <td>450</td>\n",
       "    </tr>\n",
       "    <tr>\n",
       "      <th>3</th>\n",
       "      <td>gol_1</td>\n",
       "      <td>731</td>\n",
       "    </tr>\n",
       "    <tr>\n",
       "      <th>4</th>\n",
       "      <td>gol_1</td>\n",
       "      <td>499</td>\n",
       "    </tr>\n",
       "  </tbody>\n",
       "</table>\n",
       "</div>"
      ],
      "text/plain": [
       "  variable  value\n",
       "0    gol_1    551\n",
       "1    gol_1    457\n",
       "2    gol_1    450\n",
       "3    gol_1    731\n",
       "4    gol_1    499"
      ]
     },
     "execution_count": 3,
     "metadata": {},
     "output_type": "execute_result"
    }
   ],
   "source": [
    "melted_data_1 = data_1.melt(var_name='variable', value_name='value')\n",
    "melted_data_1.head()"
   ]
  },
  {
   "cell_type": "markdown",
   "metadata": {},
   "source": [
    "#### 1-2. 아래 가설에 대해 ```anova_lm``` 함수를 이용하여 분산분석을 수행하고 결과를 해석하시오.\n",
    "\n",
    "- $H_0$ : 콘크리트 골재에 따른 평균 수분 흡수율은 차이가 없다.\n",
    "- $H_1$ : 콘크리트 골재에 따른 평균 수분 흡수율은 차이가 있다."
   ]
  },
  {
   "cell_type": "code",
   "execution_count": 4,
   "metadata": {},
   "outputs": [
    {
     "data": {
      "text/html": [
       "<div>\n",
       "<style scoped>\n",
       "    .dataframe tbody tr th:only-of-type {\n",
       "        vertical-align: middle;\n",
       "    }\n",
       "\n",
       "    .dataframe tbody tr th {\n",
       "        vertical-align: top;\n",
       "    }\n",
       "\n",
       "    .dataframe thead th {\n",
       "        text-align: right;\n",
       "    }\n",
       "</style>\n",
       "<table border=\"1\" class=\"dataframe\">\n",
       "  <thead>\n",
       "    <tr style=\"text-align: right;\">\n",
       "      <th></th>\n",
       "      <th>count</th>\n",
       "      <th>mean</th>\n",
       "      <th>std</th>\n",
       "      <th>min</th>\n",
       "      <th>25%</th>\n",
       "      <th>50%</th>\n",
       "      <th>75%</th>\n",
       "      <th>max</th>\n",
       "    </tr>\n",
       "    <tr>\n",
       "      <th>variable</th>\n",
       "      <th></th>\n",
       "      <th></th>\n",
       "      <th></th>\n",
       "      <th></th>\n",
       "      <th></th>\n",
       "      <th></th>\n",
       "      <th></th>\n",
       "      <th></th>\n",
       "    </tr>\n",
       "  </thead>\n",
       "  <tbody>\n",
       "    <tr>\n",
       "      <th>gol_1</th>\n",
       "      <td>6.0</td>\n",
       "      <td>553.333333</td>\n",
       "      <td>110.153832</td>\n",
       "      <td>450.0</td>\n",
       "      <td>467.50</td>\n",
       "      <td>525.0</td>\n",
       "      <td>611.75</td>\n",
       "      <td>731.0</td>\n",
       "    </tr>\n",
       "    <tr>\n",
       "      <th>gol_2</th>\n",
       "      <td>6.0</td>\n",
       "      <td>569.333333</td>\n",
       "      <td>47.986109</td>\n",
       "      <td>508.0</td>\n",
       "      <td>532.75</td>\n",
       "      <td>581.5</td>\n",
       "      <td>592.00</td>\n",
       "      <td>633.0</td>\n",
       "    </tr>\n",
       "    <tr>\n",
       "      <th>gol_3</th>\n",
       "      <td>6.0</td>\n",
       "      <td>610.500000</td>\n",
       "      <td>59.945809</td>\n",
       "      <td>511.0</td>\n",
       "      <td>583.50</td>\n",
       "      <td>627.0</td>\n",
       "      <td>645.75</td>\n",
       "      <td>677.0</td>\n",
       "    </tr>\n",
       "    <tr>\n",
       "      <th>gol_4</th>\n",
       "      <td>6.0</td>\n",
       "      <td>465.166667</td>\n",
       "      <td>57.607002</td>\n",
       "      <td>415.0</td>\n",
       "      <td>422.25</td>\n",
       "      <td>443.5</td>\n",
       "      <td>500.00</td>\n",
       "      <td>555.0</td>\n",
       "    </tr>\n",
       "    <tr>\n",
       "      <th>gol_5</th>\n",
       "      <td>6.0</td>\n",
       "      <td>610.666667</td>\n",
       "      <td>58.783218</td>\n",
       "      <td>522.0</td>\n",
       "      <td>575.50</td>\n",
       "      <td>622.0</td>\n",
       "      <td>649.75</td>\n",
       "      <td>679.0</td>\n",
       "    </tr>\n",
       "  </tbody>\n",
       "</table>\n",
       "</div>"
      ],
      "text/plain": [
       "          count        mean         std    min     25%    50%     75%    max\n",
       "variable                                                                    \n",
       "gol_1       6.0  553.333333  110.153832  450.0  467.50  525.0  611.75  731.0\n",
       "gol_2       6.0  569.333333   47.986109  508.0  532.75  581.5  592.00  633.0\n",
       "gol_3       6.0  610.500000   59.945809  511.0  583.50  627.0  645.75  677.0\n",
       "gol_4       6.0  465.166667   57.607002  415.0  422.25  443.5  500.00  555.0\n",
       "gol_5       6.0  610.666667   58.783218  522.0  575.50  622.0  649.75  679.0"
      ]
     },
     "execution_count": 4,
     "metadata": {},
     "output_type": "execute_result"
    }
   ],
   "source": [
    "melted_data_1.groupby('variable')['value'].describe()"
   ]
  },
  {
   "cell_type": "code",
   "execution_count": 5,
   "metadata": {},
   "outputs": [
    {
     "data": {
      "text/html": [
       "<div>\n",
       "<style scoped>\n",
       "    .dataframe tbody tr th:only-of-type {\n",
       "        vertical-align: middle;\n",
       "    }\n",
       "\n",
       "    .dataframe tbody tr th {\n",
       "        vertical-align: top;\n",
       "    }\n",
       "\n",
       "    .dataframe thead th {\n",
       "        text-align: right;\n",
       "    }\n",
       "</style>\n",
       "<table border=\"1\" class=\"dataframe\">\n",
       "  <thead>\n",
       "    <tr style=\"text-align: right;\">\n",
       "      <th></th>\n",
       "      <th>df</th>\n",
       "      <th>sum_sq</th>\n",
       "      <th>mean_sq</th>\n",
       "      <th>F</th>\n",
       "      <th>PR(&gt;F)</th>\n",
       "    </tr>\n",
       "  </thead>\n",
       "  <tbody>\n",
       "    <tr>\n",
       "      <th>variable</th>\n",
       "      <td>4.0</td>\n",
       "      <td>85356.466667</td>\n",
       "      <td>21339.116667</td>\n",
       "      <td>4.301536</td>\n",
       "      <td>0.008752</td>\n",
       "    </tr>\n",
       "    <tr>\n",
       "      <th>Residual</th>\n",
       "      <td>25.0</td>\n",
       "      <td>124020.333333</td>\n",
       "      <td>4960.813333</td>\n",
       "      <td>NaN</td>\n",
       "      <td>NaN</td>\n",
       "    </tr>\n",
       "  </tbody>\n",
       "</table>\n",
       "</div>"
      ],
      "text/plain": [
       "            df         sum_sq       mean_sq         F    PR(>F)\n",
       "variable   4.0   85356.466667  21339.116667  4.301536  0.008752\n",
       "Residual  25.0  124020.333333   4960.813333       NaN       NaN"
      ]
     },
     "execution_count": 5,
     "metadata": {},
     "output_type": "execute_result"
    }
   ],
   "source": [
    "fit = smf.ols('value~variable', melted_data_1).fit()\n",
    "sm.stats.anova_lm(fit, typ=1)"
   ]
  },
  {
   "cell_type": "markdown",
   "metadata": {},
   "source": [
    "- 분산분석 결과 $F$값은 4.3015이며 $p$값은 0.0088로 귀무가설 $H_0$를 기각한다. 따라서 다섯 가지 골재 종류에 따른 콘크리트의 평균 수분 흡수율은 차이가 있다고 판단한다."
   ]
  },
  {
   "cell_type": "markdown",
   "metadata": {},
   "source": [
    "### 1-3. 위 결과에 대해 사후검증을 수행하고 결과를 해석하시오."
   ]
  },
  {
   "cell_type": "code",
   "execution_count": null,
   "metadata": {},
   "outputs": [],
   "source": [
    "pip install statsmodels"
   ]
  },
  {
   "cell_type": "code",
   "execution_count": 34,
   "metadata": {},
   "outputs": [
    {
     "data": {
      "text/html": [
       "<table class=\"simpletable\">\n",
       "<caption>Multiple Comparison of Means - Tukey HSD, FWER=0.05</caption>\n",
       "<tr>\n",
       "  <th>group1</th> <th>group2</th> <th>meandiff</th>   <th>p-adj</th>   <th>lower</th>     <th>upper</th>  <th>reject</th>\n",
       "</tr>\n",
       "<tr>\n",
       "   <td>gol_1</td>  <td>gol_2</td>   <td>16.0</td>    <td>0.9946</td> <td>-103.4265</td> <td>135.4265</td>  <td>False</td>\n",
       "</tr>\n",
       "<tr>\n",
       "   <td>gol_1</td>  <td>gol_3</td>  <td>57.1667</td>  <td>0.6297</td> <td>-62.2598</td>  <td>176.5932</td>  <td>False</td>\n",
       "</tr>\n",
       "<tr>\n",
       "   <td>gol_1</td>  <td>gol_4</td> <td>-88.1667</td>  <td>0.2243</td> <td>-207.5932</td>  <td>31.2598</td>  <td>False</td>\n",
       "</tr>\n",
       "<tr>\n",
       "   <td>gol_1</td>  <td>gol_5</td>  <td>57.3333</td>  <td>0.6272</td> <td>-62.0932</td>  <td>176.7598</td>  <td>False</td>\n",
       "</tr>\n",
       "<tr>\n",
       "   <td>gol_2</td>  <td>gol_3</td>  <td>41.1667</td>  <td>0.8473</td> <td>-78.2598</td>  <td>160.5932</td>  <td>False</td>\n",
       "</tr>\n",
       "<tr>\n",
       "   <td>gol_2</td>  <td>gol_4</td> <td>-104.1667</td> <td>0.1088</td> <td>-223.5932</td>  <td>15.2598</td>  <td>False</td>\n",
       "</tr>\n",
       "<tr>\n",
       "   <td>gol_2</td>  <td>gol_5</td>  <td>41.3333</td>  <td>0.8454</td> <td>-78.0932</td>  <td>160.7598</td>  <td>False</td>\n",
       "</tr>\n",
       "<tr>\n",
       "   <td>gol_3</td>  <td>gol_4</td> <td>-145.3333</td> <td>0.0116</td> <td>-264.7598</td> <td>-25.9068</td>  <td>True</td> \n",
       "</tr>\n",
       "<tr>\n",
       "   <td>gol_3</td>  <td>gol_5</td>  <td>0.1667</td>     <td>1.0</td>  <td>-119.2598</td> <td>119.5932</td>  <td>False</td>\n",
       "</tr>\n",
       "<tr>\n",
       "   <td>gol_4</td>  <td>gol_5</td>   <td>145.5</td>   <td>0.0115</td>  <td>26.0735</td>  <td>264.9265</td>  <td>True</td> \n",
       "</tr>\n",
       "</table>"
      ],
      "text/latex": [
       "\\begin{center}\n",
       "\\begin{tabular}{ccccccc}\n",
       "\\toprule\n",
       "\\textbf{group1} & \\textbf{group2} & \\textbf{meandiff} & \\textbf{p-adj} & \\textbf{lower} & \\textbf{upper} & \\textbf{reject}  \\\\\n",
       "\\midrule\n",
       "     gol\\_1     &      gol\\_2     &        16.0       &     0.9946     &   -103.4265    &    135.4265    &      False       \\\\\n",
       "     gol\\_1     &      gol\\_3     &      57.1667      &     0.6297     &    -62.2598    &    176.5932    &      False       \\\\\n",
       "     gol\\_1     &      gol\\_4     &      -88.1667     &     0.2243     &   -207.5932    &    31.2598     &      False       \\\\\n",
       "     gol\\_1     &      gol\\_5     &      57.3333      &     0.6272     &    -62.0932    &    176.7598    &      False       \\\\\n",
       "     gol\\_2     &      gol\\_3     &      41.1667      &     0.8473     &    -78.2598    &    160.5932    &      False       \\\\\n",
       "     gol\\_2     &      gol\\_4     &     -104.1667     &     0.1088     &   -223.5932    &    15.2598     &      False       \\\\\n",
       "     gol\\_2     &      gol\\_5     &      41.3333      &     0.8454     &    -78.0932    &    160.7598    &      False       \\\\\n",
       "     gol\\_3     &      gol\\_4     &     -145.3333     &     0.0116     &   -264.7598    &    -25.9068    &       True       \\\\\n",
       "     gol\\_3     &      gol\\_5     &       0.1667      &      1.0       &   -119.2598    &    119.5932    &      False       \\\\\n",
       "     gol\\_4     &      gol\\_5     &       145.5       &     0.0115     &    26.0735     &    264.9265    &       True       \\\\\n",
       "\\bottomrule\n",
       "\\end{tabular}\n",
       "%\\caption{Multiple Comparison of Means - Tukey HSD, FWER=0.05}\n",
       "\\end{center}"
      ],
      "text/plain": [
       "<class 'statsmodels.iolib.table.SimpleTable'>"
      ]
     },
     "execution_count": 34,
     "metadata": {},
     "output_type": "execute_result"
    }
   ],
   "source": [
    "from statsmodels.stats.multicomp import pairwise_tukeyhsd\n",
    "tukey_hsd = pairwise_tukeyhsd(melted_data_1['value'], melted_data_1['variable'])\n",
    "summary_hsd = tukey_hsd.summary()\n",
    "summary_hsd"
   ]
  },
  {
   "cell_type": "markdown",
   "metadata": {},
   "source": [
    "- False의 경우 귀무가설 채택하므로 이는 해당 집단끼리는 수분흡수율에 차이가 없다고 판단한다.\n",
    "- 반면 True의 경우 귀무가설을 기각하므로 해당 집단끼리는 수분흡수율에 차이가 있다고 판단할 수 있다."
   ]
  },
  {
   "cell_type": "markdown",
   "metadata": {},
   "source": [
    "### 문제 2\n",
    "- 아래 데이터는 곤충의 유전자 유형과 성장시기에 따른 크기 차이를 나타낸다.\n",
    "\n",
    "    - 독립변수 A : 곤충의 유전자 유형\n",
    "    - 독립변수 B : 곤충의 성장시기\n",
    "    - 반응변수($y$) : 곤충의 크기\n",
    "\n",
    "- 아래 데이터는 분산분석을 위한 모든 가정을 만족한다. 물음에 답하시오."
   ]
  },
  {
   "cell_type": "code",
   "execution_count": 8,
   "metadata": {},
   "outputs": [
    {
     "data": {
      "text/html": [
       "<div>\n",
       "<style scoped>\n",
       "    .dataframe tbody tr th:only-of-type {\n",
       "        vertical-align: middle;\n",
       "    }\n",
       "\n",
       "    .dataframe tbody tr th {\n",
       "        vertical-align: top;\n",
       "    }\n",
       "\n",
       "    .dataframe thead th {\n",
       "        text-align: right;\n",
       "    }\n",
       "</style>\n",
       "<table border=\"1\" class=\"dataframe\">\n",
       "  <thead>\n",
       "    <tr style=\"text-align: right;\">\n",
       "      <th></th>\n",
       "      <th>Genotype</th>\n",
       "      <th>1_year</th>\n",
       "      <th>2_year</th>\n",
       "      <th>3_year</th>\n",
       "    </tr>\n",
       "  </thead>\n",
       "  <tbody>\n",
       "    <tr>\n",
       "      <th>0</th>\n",
       "      <td>A</td>\n",
       "      <td>1.53</td>\n",
       "      <td>4.08</td>\n",
       "      <td>6.69</td>\n",
       "    </tr>\n",
       "    <tr>\n",
       "      <th>1</th>\n",
       "      <td>A</td>\n",
       "      <td>1.83</td>\n",
       "      <td>3.84</td>\n",
       "      <td>5.97</td>\n",
       "    </tr>\n",
       "    <tr>\n",
       "      <th>2</th>\n",
       "      <td>A</td>\n",
       "      <td>1.38</td>\n",
       "      <td>3.96</td>\n",
       "      <td>6.33</td>\n",
       "    </tr>\n",
       "    <tr>\n",
       "      <th>3</th>\n",
       "      <td>B</td>\n",
       "      <td>3.60</td>\n",
       "      <td>5.70</td>\n",
       "      <td>8.55</td>\n",
       "    </tr>\n",
       "    <tr>\n",
       "      <th>4</th>\n",
       "      <td>B</td>\n",
       "      <td>2.94</td>\n",
       "      <td>5.07</td>\n",
       "      <td>7.95</td>\n",
       "    </tr>\n",
       "  </tbody>\n",
       "</table>\n",
       "</div>"
      ],
      "text/plain": [
       "  Genotype  1_year  2_year  3_year\n",
       "0        A    1.53    4.08    6.69\n",
       "1        A    1.83    3.84    5.97\n",
       "2        A    1.38    3.96    6.33\n",
       "3        B    3.60    5.70    8.55\n",
       "4        B    2.94    5.07    7.95"
      ]
     },
     "execution_count": 8,
     "metadata": {},
     "output_type": "execute_result"
    }
   ],
   "source": [
    "data_2 = pd.read_csv(\"https://reneshbedre.github.io/assets/posts/anova/twowayanova.txt\", sep = \"\\t\")\n",
    "data_2.head()"
   ]
  },
  {
   "cell_type": "markdown",
   "metadata": {},
   "source": [
    "#### 문제 2-1\n",
    "\n",
    "반복이 있는 이원배치분산분석을 위해 곤충의 크기를 반응변수로 할 때의 가설을 설정하시오."
   ]
  },
  {
   "cell_type": "markdown",
   "metadata": {},
   "source": [
    "- 답안1\n",
    "\n",
    "    - $H_0$: 모든 집단 간 곤충 크기에는 유의미한 차이가 없을 것이다. \n",
    "    - $H_1$: 적어도 한 개의 집단에서는 유의미한 차이가 발생할 것이다. \n",
    "\n",
    "- 답안2\n",
    "\n",
    "    - $H_0^A$: 곤충의 유전자 유형과 곤충의 크기는 차이가 없다.\n",
    "    - $H_1^A$: 곤충의 유전자 유형과 곤충의 크기는 차이가 있다. \n",
    "\n",
    "    - $H_0^B$: 곤충의 성장시기와 곤충의 크기는 차이가 없다.\n",
    "    - $H_1^B$: 곤충의 성장시기와 곤충의 크기는 차이가 있다.\n",
    "\n",
    "    - $H_0^{AB}$: 곤충의 유전자 유형과 곤충의 성장시기는 교호효과는 없다.\n",
    "    - $H_1^{AB}$: 곤충의 유전자 유형과 곤충의 성장시기는 교호효과는 있다."
   ]
  },
  {
   "cell_type": "markdown",
   "metadata": {},
   "source": [
    "#### 문제 2-2\n",
    "\n",
    "반복이 있는 이원배치분산분석을 수행하고 그 결과를 해석하시오."
   ]
  },
  {
   "cell_type": "code",
   "execution_count": 9,
   "metadata": {},
   "outputs": [
    {
     "data": {
      "text/html": [
       "<div>\n",
       "<style scoped>\n",
       "    .dataframe tbody tr th:only-of-type {\n",
       "        vertical-align: middle;\n",
       "    }\n",
       "\n",
       "    .dataframe tbody tr th {\n",
       "        vertical-align: top;\n",
       "    }\n",
       "\n",
       "    .dataframe thead th {\n",
       "        text-align: right;\n",
       "    }\n",
       "</style>\n",
       "<table border=\"1\" class=\"dataframe\">\n",
       "  <thead>\n",
       "    <tr style=\"text-align: right;\">\n",
       "      <th></th>\n",
       "      <th>A_fac</th>\n",
       "      <th>B_fac</th>\n",
       "      <th>y</th>\n",
       "    </tr>\n",
       "  </thead>\n",
       "  <tbody>\n",
       "    <tr>\n",
       "      <th>0</th>\n",
       "      <td>A</td>\n",
       "      <td>1_year</td>\n",
       "      <td>1.53</td>\n",
       "    </tr>\n",
       "    <tr>\n",
       "      <th>1</th>\n",
       "      <td>A</td>\n",
       "      <td>1_year</td>\n",
       "      <td>1.83</td>\n",
       "    </tr>\n",
       "    <tr>\n",
       "      <th>2</th>\n",
       "      <td>A</td>\n",
       "      <td>1_year</td>\n",
       "      <td>1.38</td>\n",
       "    </tr>\n",
       "    <tr>\n",
       "      <th>3</th>\n",
       "      <td>B</td>\n",
       "      <td>1_year</td>\n",
       "      <td>3.60</td>\n",
       "    </tr>\n",
       "    <tr>\n",
       "      <th>4</th>\n",
       "      <td>B</td>\n",
       "      <td>1_year</td>\n",
       "      <td>2.94</td>\n",
       "    </tr>\n",
       "  </tbody>\n",
       "</table>\n",
       "</div>"
      ],
      "text/plain": [
       "  A_fac   B_fac     y\n",
       "0     A  1_year  1.53\n",
       "1     A  1_year  1.83\n",
       "2     A  1_year  1.38\n",
       "3     B  1_year  3.60\n",
       "4     B  1_year  2.94"
      ]
     },
     "execution_count": 9,
     "metadata": {},
     "output_type": "execute_result"
    }
   ],
   "source": [
    "melted_data_2 = data_2.melt(id_vars = 'Genotype', value_name='value')\n",
    "melted_data_2.columns = ['A_fac', 'B_fac', 'y']\n",
    "melted_data_2.head()"
   ]
  },
  {
   "cell_type": "code",
   "execution_count": 10,
   "metadata": {},
   "outputs": [
    {
     "data": {
      "text/html": [
       "<div>\n",
       "<style scoped>\n",
       "    .dataframe tbody tr th:only-of-type {\n",
       "        vertical-align: middle;\n",
       "    }\n",
       "\n",
       "    .dataframe tbody tr th {\n",
       "        vertical-align: top;\n",
       "    }\n",
       "\n",
       "    .dataframe thead th {\n",
       "        text-align: right;\n",
       "    }\n",
       "</style>\n",
       "<table border=\"1\" class=\"dataframe\">\n",
       "  <thead>\n",
       "    <tr style=\"text-align: right;\">\n",
       "      <th></th>\n",
       "      <th>df</th>\n",
       "      <th>sum_sq</th>\n",
       "      <th>mean_sq</th>\n",
       "      <th>F</th>\n",
       "      <th>PR(&gt;F)</th>\n",
       "    </tr>\n",
       "  </thead>\n",
       "  <tbody>\n",
       "    <tr>\n",
       "      <th>C(A_fac)</th>\n",
       "      <td>5.0</td>\n",
       "      <td>58.551733</td>\n",
       "      <td>11.710347</td>\n",
       "      <td>32.748581</td>\n",
       "      <td>1.931655e-12</td>\n",
       "    </tr>\n",
       "    <tr>\n",
       "      <th>C(B_fac)</th>\n",
       "      <td>2.0</td>\n",
       "      <td>278.925633</td>\n",
       "      <td>139.462817</td>\n",
       "      <td>390.014868</td>\n",
       "      <td>4.006243e-25</td>\n",
       "    </tr>\n",
       "    <tr>\n",
       "      <th>C(A_fac):C(B_fac)</th>\n",
       "      <td>10.0</td>\n",
       "      <td>17.122967</td>\n",
       "      <td>1.712297</td>\n",
       "      <td>4.788525</td>\n",
       "      <td>2.230094e-04</td>\n",
       "    </tr>\n",
       "    <tr>\n",
       "      <th>Residual</th>\n",
       "      <td>36.0</td>\n",
       "      <td>12.873000</td>\n",
       "      <td>0.357583</td>\n",
       "      <td>NaN</td>\n",
       "      <td>NaN</td>\n",
       "    </tr>\n",
       "  </tbody>\n",
       "</table>\n",
       "</div>"
      ],
      "text/plain": [
       "                     df      sum_sq     mean_sq           F        PR(>F)\n",
       "C(A_fac)            5.0   58.551733   11.710347   32.748581  1.931655e-12\n",
       "C(B_fac)            2.0  278.925633  139.462817  390.014868  4.006243e-25\n",
       "C(A_fac):C(B_fac)  10.0   17.122967    1.712297    4.788525  2.230094e-04\n",
       "Residual           36.0   12.873000    0.357583         NaN           NaN"
      ]
     },
     "execution_count": 10,
     "metadata": {},
     "output_type": "execute_result"
    }
   ],
   "source": [
    "fit = smf.ols('y ~ C(A_fac) + C(B_fac) + C(A_fac):C(B_fac)', \n",
    "          data = melted_data_2).fit()\n",
    " \n",
    "sm.stats.anova_lm(fit, typ = 1)"
   ]
  },
  {
   "cell_type": "markdown",
   "metadata": {},
   "source": [
    "- $H_0^{AB}$의 교호효과에 대하여 $p$값이 매우 작으므로 교호효과는 존재한다.\n",
    "- $H_0^A$에 대한 $p$값이 매우 작으므로 곤충의 유전자 유형은 곤충의 크기와 차이가 없다.\n",
    "- $H_0^B$에 대한 $p$값이 매우 작으므로 곤충의 성장시기는 곤충의 크기와 차이가 없다."
   ]
  },
  {
   "cell_type": "markdown",
   "metadata": {},
   "source": [
    "#### 문제 2-3\n",
    "\n",
    "위에서 얻은 결과와 관련하여 교호효과 여부를 볼 수 있도록 그래프로 나타내고 그 결과를 해석하시오.\n",
    "\n",
    "- 교호효과를 시각화하기 위해 ```interaction_plot()``` 함수를 활용하고 아래 인수를 참고하시오.\n",
    "    - x: 범주형 변수의 이름을 나타내는 배열 또는 시리즈. 이 변수는 x축에 표시한다.\n",
    "    - trace: 또 다른 범주형 변수의 이름을 나타내는 배열 또는 시리즈. 이 변수는 각 그룹의 라인을 구분하는 데 사용된다.\n",
    "    - response: 종속 변수의 이름을 나타내는 배열 또는 시리즈. 이 변수는 y축에 표시된다."
   ]
  },
  {
   "cell_type": "code",
   "execution_count": null,
   "metadata": {},
   "outputs": [
    {
     "data": {
      "image/png": "[encoded data removed]",
      "text/plain": [
       "<Figure size 1200x900 with 1 Axes>"
      ]
     },
     "metadata": {},
     "output_type": "display_data"
    }
   ],
   "source": [
    "from statsmodels.graphics.factorplots import interaction_plot\n",
    "import matplotlib.pyplot as plt\n",
    "plt.rcParams['figure.figsize'] = (12, 9)\n",
    "\n",
    "fig = interaction_plot(x=melted_data_2['A_fac'], \n",
    "                       trace = melted_data_2['B_fac'], \n",
    "                       response=melted_data_2['y']\n",
    "                       )\n",
    "plt.title(\"Checking Interaction size\", fontsize = 25, pad = 10)\n",
    "plt.grid(alpha = 0.4);"
   ]
  },
  {
   "cell_type": "markdown",
   "metadata": {},
   "source": [
    "- 유전자 유형 A, B에서는 특별한 교호효과를 확인하기 어려운 반면, D, E의 경우 성장시기에 따른 뚜렷한 교호효과를 확인할 수 있다."
   ]
  },
  {
   "cell_type": "markdown",
   "metadata": {},
   "source": [
    "### 문제 2-4\n",
    "\n",
    "튜키 방법을 이용하여 사후분석을 수행하고 결과를 해석하시오."
   ]
  },
  {
   "cell_type": "code",
   "execution_count": 27,
   "metadata": {},
   "outputs": [
    {
     "name": "stdout",
     "output_type": "stream",
     "text": [
      "Requirement already satisfied: statsmodels in c:\\programdata\\anaconda3\\envs\\grootman\\lib\\site-packages (0.14.2)\n",
      "Requirement already satisfied: numpy>=1.22.3 in c:\\programdata\\anaconda3\\envs\\grootman\\lib\\site-packages (from statsmodels) (1.26.4)\n",
      "Requirement already satisfied: scipy!=1.9.2,>=1.8 in c:\\programdata\\anaconda3\\envs\\grootman\\lib\\site-packages (from statsmodels) (1.14.0)\n",
      "Requirement already satisfied: pandas!=2.1.0,>=1.4 in c:\\programdata\\anaconda3\\envs\\grootman\\lib\\site-packages (from statsmodels) (2.2.1)\n",
      "Requirement already satisfied: patsy>=0.5.6 in c:\\programdata\\anaconda3\\envs\\grootman\\lib\\site-packages (from statsmodels) (0.5.6)\n",
      "Requirement already satisfied: packaging>=21.3 in c:\\programdata\\anaconda3\\envs\\grootman\\lib\\site-packages (from statsmodels) (23.2)\n",
      "Requirement already satisfied: python-dateutil>=2.8.2 in c:\\programdata\\anaconda3\\envs\\grootman\\lib\\site-packages (from pandas!=2.1.0,>=1.4->statsmodels) (2.8.2)\n",
      "Requirement already satisfied: pytz>=2020.1 in c:\\programdata\\anaconda3\\envs\\grootman\\lib\\site-packages (from pandas!=2.1.0,>=1.4->statsmodels) (2024.1)\n",
      "Requirement already satisfied: tzdata>=2022.7 in c:\\programdata\\anaconda3\\envs\\grootman\\lib\\site-packages (from pandas!=2.1.0,>=1.4->statsmodels) (2023.3)\n",
      "Requirement already satisfied: six in c:\\programdata\\anaconda3\\envs\\grootman\\lib\\site-packages (from patsy>=0.5.6->statsmodels) (1.16.0)\n",
      "Note: you may need to restart the kernel to use updated packages.\n"
     ]
    }
   ],
   "source": [
    "pip install statsmodels"
   ]
  },
  {
   "cell_type": "code",
   "execution_count": 32,
   "metadata": {},
   "outputs": [
    {
     "data": {
      "text/html": [
       "<table class=\"simpletable\">\n",
       "<caption>Multiple Comparison of Means - Tukey HSD, FWER=0.05</caption>\n",
       "<tr>\n",
       "   <th>group1</th>   <th>group2</th>  <th>meandiff</th>  <th>p-adj</th>   <th>lower</th>   <th>upper</th>  <th>reject</th>\n",
       "</tr>\n",
       "<tr>\n",
       "  <td>D-1_year</td> <td>D-2_year</td>   <td>1.72</td>   <td>0.1518</td>  <td>-0.4391</td> <td>3.8791</td>   <td>False</td>\n",
       "</tr>\n",
       "<tr>\n",
       "  <td>D-1_year</td> <td>D-3_year</td>   <td>6.88</td>     <td>0.0</td>   <td>4.7209</td>  <td>9.0391</td>   <td>True</td> \n",
       "</tr>\n",
       "<tr>\n",
       "  <td>D-1_year</td> <td>E-1_year</td>   <td>-1.73</td>  <td>0.1482</td>  <td>-3.8891</td> <td>0.4291</td>   <td>False</td>\n",
       "</tr>\n",
       "<tr>\n",
       "  <td>D-1_year</td> <td>E-2_year</td>   <td>1.58</td>   <td>0.2113</td>  <td>-0.5791</td> <td>3.7391</td>   <td>False</td>\n",
       "</tr>\n",
       "<tr>\n",
       "  <td>D-1_year</td> <td>E-3_year</td>   <td>3.23</td>   <td>0.0031</td>  <td>1.0709</td>  <td>5.3891</td>   <td>True</td> \n",
       "</tr>\n",
       "<tr>\n",
       "  <td>D-2_year</td> <td>D-3_year</td>   <td>5.16</td>     <td>0.0</td>   <td>3.0009</td>  <td>7.3191</td>   <td>True</td> \n",
       "</tr>\n",
       "<tr>\n",
       "  <td>D-2_year</td> <td>E-1_year</td>   <td>-3.45</td>  <td>0.0018</td>  <td>-5.6091</td> <td>-1.2909</td>  <td>True</td> \n",
       "</tr>\n",
       "<tr>\n",
       "  <td>D-2_year</td> <td>E-2_year</td>   <td>-0.14</td>  <td>0.9999</td>  <td>-2.2991</td> <td>2.0191</td>   <td>False</td>\n",
       "</tr>\n",
       "<tr>\n",
       "  <td>D-2_year</td> <td>E-3_year</td>   <td>1.51</td>   <td>0.2475</td>  <td>-0.6491</td> <td>3.6691</td>   <td>False</td>\n",
       "</tr>\n",
       "<tr>\n",
       "  <td>D-3_year</td> <td>E-1_year</td>   <td>-8.61</td>    <td>0.0</td>  <td>-10.7691</td> <td>-6.4509</td>  <td>True</td> \n",
       "</tr>\n",
       "<tr>\n",
       "  <td>D-3_year</td> <td>E-2_year</td>   <td>-5.3</td>     <td>0.0</td>   <td>-7.4591</td> <td>-3.1409</td>  <td>True</td> \n",
       "</tr>\n",
       "<tr>\n",
       "  <td>D-3_year</td> <td>E-3_year</td>   <td>-3.65</td>  <td>0.0011</td>  <td>-5.8091</td> <td>-1.4909</td>  <td>True</td> \n",
       "</tr>\n",
       "<tr>\n",
       "  <td>E-1_year</td> <td>E-2_year</td>   <td>3.31</td>   <td>0.0025</td>  <td>1.1509</td>  <td>5.4691</td>   <td>True</td> \n",
       "</tr>\n",
       "<tr>\n",
       "  <td>E-1_year</td> <td>E-3_year</td>   <td>4.96</td>   <td>0.0001</td>  <td>2.8009</td>  <td>7.1191</td>   <td>True</td> \n",
       "</tr>\n",
       "<tr>\n",
       "  <td>E-2_year</td> <td>E-3_year</td>   <td>1.65</td>   <td>0.1795</td>  <td>-0.5091</td> <td>3.8091</td>   <td>False</td>\n",
       "</tr>\n",
       "</table>"
      ],
      "text/latex": [
       "\\begin{center}\n",
       "\\begin{tabular}{ccccccc}\n",
       "\\toprule\n",
       "\\textbf{group1} & \\textbf{group2} & \\textbf{meandiff} & \\textbf{p-adj} & \\textbf{lower} & \\textbf{upper} & \\textbf{reject}  \\\\\n",
       "\\midrule\n",
       "   D-1\\_year    &    D-2\\_year    &        1.72       &     0.1518     &    -0.4391     &     3.8791     &      False       \\\\\n",
       "   D-1\\_year    &    D-3\\_year    &        6.88       &      0.0       &     4.7209     &     9.0391     &       True       \\\\\n",
       "   D-1\\_year    &    E-1\\_year    &       -1.73       &     0.1482     &    -3.8891     &     0.4291     &      False       \\\\\n",
       "   D-1\\_year    &    E-2\\_year    &        1.58       &     0.2113     &    -0.5791     &     3.7391     &      False       \\\\\n",
       "   D-1\\_year    &    E-3\\_year    &        3.23       &     0.0031     &     1.0709     &     5.3891     &       True       \\\\\n",
       "   D-2\\_year    &    D-3\\_year    &        5.16       &      0.0       &     3.0009     &     7.3191     &       True       \\\\\n",
       "   D-2\\_year    &    E-1\\_year    &       -3.45       &     0.0018     &    -5.6091     &    -1.2909     &       True       \\\\\n",
       "   D-2\\_year    &    E-2\\_year    &       -0.14       &     0.9999     &    -2.2991     &     2.0191     &      False       \\\\\n",
       "   D-2\\_year    &    E-3\\_year    &        1.51       &     0.2475     &    -0.6491     &     3.6691     &      False       \\\\\n",
       "   D-3\\_year    &    E-1\\_year    &       -8.61       &      0.0       &    -10.7691    &    -6.4509     &       True       \\\\\n",
       "   D-3\\_year    &    E-2\\_year    &        -5.3       &      0.0       &    -7.4591     &    -3.1409     &       True       \\\\\n",
       "   D-3\\_year    &    E-3\\_year    &       -3.65       &     0.0011     &    -5.8091     &    -1.4909     &       True       \\\\\n",
       "   E-1\\_year    &    E-2\\_year    &        3.31       &     0.0025     &     1.1509     &     5.4691     &       True       \\\\\n",
       "   E-1\\_year    &    E-3\\_year    &        4.96       &     0.0001     &     2.8009     &     7.1191     &       True       \\\\\n",
       "   E-2\\_year    &    E-3\\_year    &        1.65       &     0.1795     &    -0.5091     &     3.8091     &      False       \\\\\n",
       "\\bottomrule\n",
       "\\end{tabular}\n",
       "%\\caption{Multiple Comparison of Means - Tukey HSD, FWER=0.05}\n",
       "\\end{center}"
      ],
      "text/plain": [
       "<class 'statsmodels.iolib.table.SimpleTable'>"
      ]
     },
     "execution_count": 32,
     "metadata": {},
     "output_type": "execute_result"
    }
   ],
   "source": [
    "from statsmodels.stats.multicomp import pairwise_tukeyhsd\n",
    "melted_data_2['group_combination'] = melted_data_2.A_fac + \"-\" + melted_data_2.B_fac\n",
    "tukey_hsd = pairwise_tukeyhsd(melted_data_2.query('A_fac == [\"D\", \"E\"]')['y'], melted_data_2.query('A_fac == [\"D\", \"E\"]')['group_combination'])\n",
    "summary_hsd = tukey_hsd.summary()\n",
    "summary_hsd"
   ]
  },
  {
   "cell_type": "markdown",
   "metadata": {},
   "source": [
    "- 확인 결과 D & E 사이에서 교호효과가 있는것으로 판단된다. "
   ]
  },
  {
   "cell_type": "markdown",
   "metadata": {},
   "source": [
    "- 참고 사이트 : https://data-marketing-bk.tistory.com/m/entry/Python%EC%9D%B4%EC%9B%90%EB%B6%84%EC%82%B0%EB%B6%84%EC%84%9DTwo-way-ANOVA-%EC%BD%94%EB%93%9C%EB%B6%80%ED%84%B0-%EA%B2%B0%EA%B3%BC-%ED%95%B4%EC%84%9D-%EA%B0%80%EC%9D%B4%EB%93%9C"
   ]
  },
  {
   "cell_type": "markdown",
   "metadata": {},
   "source": []
  }
 ],
 "metadata": {
  "kernelspec": {
   "display_name": "grootman",
   "language": "python",
   "name": "python3"
  },
  "language_info": {
   "codemirror_mode": {
    "name": "ipython",
    "version": 3
   },
   "file_extension": ".py",
   "mimetype": "text/x-python",
   "name": "python",
   "nbconvert_exporter": "python",
   "pygments_lexer": "ipython3",
   "version": "3.11.9"
  }
 },
 "nbformat": 4,
 "nbformat_minor": 2
}
