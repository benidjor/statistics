{
 "cells": [
  {
   "cell_type": "markdown",
   "id": "5facd70d",
   "metadata": {},
   "source": [
    "# 8강 퀴즈"
   ]
  },
  {
   "cell_type": "code",
   "execution_count": null,
   "id": "52600b41",
   "metadata": {},
   "outputs": [],
   "source": [
    "import pandas as pd\n",
    "import numpy as np\n",
    "import scipy as stats\n",
    "import matplotlib.pyplot as plt\n",
    "import seaborn as sns\n",
    "import statsmodels.api as sm\n",
    "import statsmodels.formula.api as smf"
   ]
  },
  {
   "cell_type": "markdown",
   "id": "e080ae2b",
   "metadata": {},
   "source": [
    "## 문제1\n",
    "어느 병원에서는 정도가 비슷한 두통 환자 24명을 8명씩 나누고 세 가지 처방을 하여 고통 해소 시간을 측정하였다. \n",
    "\n",
    "그 결과 측정된 자료는 다음과 같다."
   ]
  },
  {
   "cell_type": "code",
   "execution_count": null,
   "id": "edecd2d5",
   "metadata": {},
   "outputs": [],
   "source": [
    "data = pd.DataFrame({\n",
    "    \"A\" : [4.2, 2.3, 6.6, 6.1, 10.2, 11.7, 7.0, 3.6],\n",
    "    \"B\" : [4.1, 10.7, 14.3, 10.4, 15.3, 11.5, 19.8, 12.6],\n",
    "    \"C\" : [38.7, 26.3, 5.4, 10.3, 16.9, 43.1, 48.6, 29.5]\n",
    "})\n",
    "\n",
    "data = data.melt(var_name='treat', value_name='value')"
   ]
  },
  {
   "cell_type": "markdown",
   "id": "c553b685",
   "metadata": {},
   "source": [
    "#### 1-1) 위 자료에 대해 분산분석을 시행하라"
   ]
  },
  {
   "cell_type": "code",
   "execution_count": null,
   "id": "02150fb4",
   "metadata": {},
   "outputs": [],
   "source": [
    "fit1 = smf.ols('value~treat', data).fit()\n",
    "#코드 작성"
   ]
  },
  {
   "cell_type": "markdown",
   "id": "c6c661db",
   "metadata": {},
   "source": [
    "#### 1-2) 분산분석 결과를 활용하여 잔차의 산점도를 작성하라"
   ]
  },
  {
   "cell_type": "code",
   "execution_count": null,
   "id": "3ce4c494",
   "metadata": {},
   "outputs": [],
   "source": [
    "data['predicted'] = fit1.predict()\n",
    "data['studentized_resid'] = fit1.get_influence().resid_studentized_internal\n",
    "\n",
    "sns.scatterplot(#코드 작성)\n",
    "plt.axhline(y=0, color=\"k\", linewidth=0.3)\n",
    "plt.xlabel('predicted value of Y')\n",
    "plt.ylabel('studentized value of Y')\n",
    "plt.legend(loc='center left', bbox_to_anchor=(1.0,0.5))\n",
    "plt.show()"
   ]
  },
  {
   "cell_type": "markdown",
   "id": "0894d447",
   "metadata": {},
   "source": [
    "#### 1-3) 자료를 확인하고, 가장 효과적인 자료변환을 실시하여 분산분석을 진행하라"
   ]
  },
  {
   "cell_type": "code",
   "execution_count": null,
   "id": "faaa1747",
   "metadata": {},
   "outputs": [],
   "source": [
    "data_transformed = data\n",
    "# 자료변환 코드 작성\n",
    "\n",
    "fit2=smf.ols('y~treat', data).fit()\n",
    "# 분산분석 코드 작성"
   ]
  },
  {
   "cell_type": "markdown",
   "id": "6b19d401",
   "metadata": {},
   "source": [
    "#### 1-4) 자료변환된 데이터에대해 다시 잔차의 산점도를 작성하여라"
   ]
  },
  {
   "cell_type": "code",
   "execution_count": null,
   "id": "3ce43bd5",
   "metadata": {},
   "outputs": [],
   "source": [
    "data['predicted'] = fit2.predict()\n",
    "data['studentized_resid'] = fit2.get_influence().resid_studentized_internal\n",
    "\n",
    "sns.scatterplot(# 코드 작성)\n",
    "plt.axhline(y=0, color=\"k\", linewidth=0.3)\n",
    "plt.xlabel('predicted value of Y')\n",
    "plt.ylabel('studentized value of Y')\n",
    "plt.legend(loc='center left', bbox_to_anchor=(1.0,0.5))\n",
    "plt.show()"
   ]
  },
  {
   "cell_type": "markdown",
   "id": "588a3324",
   "metadata": {},
   "source": [
    "## 문제2\n",
    "보험회사 PanDas라이프는 A,B,C 권역별 보험 판매 대리점별로 매출액에 대해 분산분석을 시행하려고 한다. \n",
    "이때, 보험 상담사의 수에 따라 매출액이 영향을 받을 수 있으므로, 이를 고려하여 분산분석을 시행하려고 한다. \n",
    "보험회사가 조사하여 얻은 아래의 데이터를 참고하여 다음 가설 검정을 수행하시오\n",
    "\n",
    "귀무가설 : A,B,C 권역별 매출액의 평균은 모두 같다.\n",
    "대립가설 : 적어도 한 권역의 평균은 다르다."
   ]
  },
  {
   "cell_type": "code",
   "execution_count": null,
   "id": "68ca1790",
   "metadata": {},
   "outputs": [],
   "source": [
    "# <자료>\n",
    "\n",
    "import pandas as pd\n",
    "\n",
    "data = pd.DataFrame({\n",
    "    'region': ['A', 'A', 'A', 'A', 'B', 'B', 'B', 'B', 'C', 'C', 'C', 'C'],\n",
    "    'num_salesman': [1, 3, 2, 4, 6, 8, 7, 9, 11, 13, 12, 14],\n",
    "    'sales': [10, 50, 20, 100, 200, 500, 300, 700, 1000, 1500, 1300, 1800]\n",
    "})\n",
    "\n",
    "record = data.set_index(['region', 'num_salesman'], inplace=True)\n",
    "record"
   ]
  }
 ],
 "metadata": {
  "kernelspec": {
   "display_name": "Python 3 (ipykernel)",
   "language": "python",
   "name": "python3"
  },
  "language_info": {
   "codemirror_mode": {
    "name": "ipython",
    "version": 3
   },
   "file_extension": ".py",
   "mimetype": "text/x-python",
   "name": "python",
   "nbconvert_exporter": "python",
   "pygments_lexer": "ipython3",
   "version": "3.11.5"
  }
 },
 "nbformat": 4,
 "nbformat_minor": 5
}
