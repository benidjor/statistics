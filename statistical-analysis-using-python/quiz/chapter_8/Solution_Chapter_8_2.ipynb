{
 "cells": [
  {
   "cell_type": "markdown",
   "id": "3f03f8a9",
   "metadata": {},
   "source": [
    "# 8강 퀴즈"
   ]
  },
  {
   "cell_type": "code",
   "execution_count": 11,
   "id": "fc375e79",
   "metadata": {},
   "outputs": [],
   "source": [
    "import pandas as pd\n",
    "import numpy as np\n",
    "import scipy as stats\n",
    "import matplotlib.pyplot as plt\n",
    "import seaborn as sns\n",
    "import statsmodels.api as sm\n",
    "import statsmodels.formula.api as smf"
   ]
  },
  {
   "cell_type": "markdown",
   "id": "fc9dcb97",
   "metadata": {},
   "source": [
    "## 문제1\n",
    "어느 병원에서는 정도가 비슷한 두통 환자 24명을 8명씩 나누고 세 가지 처방을 하여 고통 해소 시간을 측정하였다. \n",
    "\n",
    "그 결과 측정된 자료는 다음과 같다."
   ]
  },
  {
   "cell_type": "code",
   "execution_count": 14,
   "id": "aba1aae9",
   "metadata": {},
   "outputs": [],
   "source": [
    "data = pd.DataFrame({\n",
    "    \"A\" : [4.2, 2.3, 6.6, 6.1, 10.2, 11.7, 7.0, 3.6],\n",
    "    \"B\" : [4.1, 10.7, 14.3, 10.4, 15.3, 11.5, 19.8, 12.6],\n",
    "    \"C\" : [38.7, 26.3, 5.4, 10.3, 16.9, 43.1, 48.6, 29.5]\n",
    "})\n",
    "\n",
    "data = data.melt(var_name='treat', value_name='value')"
   ]
  },
  {
   "cell_type": "markdown",
   "id": "cef100f1",
   "metadata": {},
   "source": [
    "#### 1-1) 위 자료에 대해 분산분석을 시행하라"
   ]
  },
  {
   "cell_type": "code",
   "execution_count": 12,
   "id": "01074637",
   "metadata": {},
   "outputs": [
    {
     "data": {
      "text/html": [
       "<div>\n",
       "<style scoped>\n",
       "    .dataframe tbody tr th:only-of-type {\n",
       "        vertical-align: middle;\n",
       "    }\n",
       "\n",
       "    .dataframe tbody tr th {\n",
       "        vertical-align: top;\n",
       "    }\n",
       "\n",
       "    .dataframe thead th {\n",
       "        text-align: right;\n",
       "    }\n",
       "</style>\n",
       "<table border=\"1\" class=\"dataframe\">\n",
       "  <thead>\n",
       "    <tr style=\"text-align: right;\">\n",
       "      <th></th>\n",
       "      <th>df</th>\n",
       "      <th>sum_sq</th>\n",
       "      <th>mean_sq</th>\n",
       "      <th>F</th>\n",
       "      <th>PR(&gt;F)</th>\n",
       "    </tr>\n",
       "  </thead>\n",
       "  <tbody>\n",
       "    <tr>\n",
       "      <th>treat</th>\n",
       "      <td>2.0</td>\n",
       "      <td>1856.475833</td>\n",
       "      <td>928.237917</td>\n",
       "      <td>10.090914</td>\n",
       "      <td>0.000849</td>\n",
       "    </tr>\n",
       "    <tr>\n",
       "      <th>Residual</th>\n",
       "      <td>21.0</td>\n",
       "      <td>1931.737500</td>\n",
       "      <td>91.987500</td>\n",
       "      <td>NaN</td>\n",
       "      <td>NaN</td>\n",
       "    </tr>\n",
       "  </tbody>\n",
       "</table>\n",
       "</div>"
      ],
      "text/plain": [
       "            df       sum_sq     mean_sq          F    PR(>F)\n",
       "treat      2.0  1856.475833  928.237917  10.090914  0.000849\n",
       "Residual  21.0  1931.737500   91.987500        NaN       NaN"
      ]
     },
     "execution_count": 12,
     "metadata": {},
     "output_type": "execute_result"
    }
   ],
   "source": [
    "fit1 = smf.ols('value~treat', data).fit()\n",
    "sm.stats.anova_lm(fit1, typ=1)"
   ]
  },
  {
   "cell_type": "markdown",
   "id": "55af985f",
   "metadata": {},
   "source": [
    "#### 1-2) 분산분석 결과를 활용하여 잔차의 산점도를 작성하라"
   ]
  },
  {
   "cell_type": "code",
   "execution_count": 18,
   "id": "d48251fd",
   "metadata": {},
   "outputs": [
    {
     "data": {
      "image/png": "[encoded data removed]",
      "text/plain": [
       "<Figure size 640x480 with 1 Axes>"
      ]
     },
     "metadata": {},
     "output_type": "display_data"
    }
   ],
   "source": [
    "data['predicted'] = fit1.predict()\n",
    "data['studentized_resid'] = fit1.get_influence().resid_studentized_internal\n",
    "\n",
    "sns.scatterplot(x='predicted', y='studentized_resid', hue='treat', data=data)\n",
    "plt.axhline(y=0, color=\"k\", linewidth=0.3)\n",
    "plt.xlabel('predicted value of Y')\n",
    "plt.ylabel('studentized value of Y')\n",
    "plt.legend(loc='center left', bbox_to_anchor=(1.0,0.5))\n",
    "plt.show()"
   ]
  },
  {
   "cell_type": "markdown",
   "id": "9608a197",
   "metadata": {},
   "source": [
    "#### 1-3) 자료를 확인하고, 가장 효과적인 자료변환을 실시하여 분산분석을 진행하라"
   ]
  },
  {
   "cell_type": "code",
   "execution_count": 21,
   "id": "209b3809",
   "metadata": {},
   "outputs": [
    {
     "data": {
      "text/html": [
       "<div>\n",
       "<style scoped>\n",
       "    .dataframe tbody tr th:only-of-type {\n",
       "        vertical-align: middle;\n",
       "    }\n",
       "\n",
       "    .dataframe tbody tr th {\n",
       "        vertical-align: top;\n",
       "    }\n",
       "\n",
       "    .dataframe thead th {\n",
       "        text-align: right;\n",
       "    }\n",
       "</style>\n",
       "<table border=\"1\" class=\"dataframe\">\n",
       "  <thead>\n",
       "    <tr style=\"text-align: right;\">\n",
       "      <th></th>\n",
       "      <th>df</th>\n",
       "      <th>sum_sq</th>\n",
       "      <th>mean_sq</th>\n",
       "      <th>F</th>\n",
       "      <th>PR(&gt;F)</th>\n",
       "    </tr>\n",
       "  </thead>\n",
       "  <tbody>\n",
       "    <tr>\n",
       "      <th>treat</th>\n",
       "      <td>2.0</td>\n",
       "      <td>7.332016</td>\n",
       "      <td>3.666008</td>\n",
       "      <td>10.000755</td>\n",
       "      <td>0.000889</td>\n",
       "    </tr>\n",
       "    <tr>\n",
       "      <th>Residual</th>\n",
       "      <td>21.0</td>\n",
       "      <td>7.698035</td>\n",
       "      <td>0.366573</td>\n",
       "      <td>NaN</td>\n",
       "      <td>NaN</td>\n",
       "    </tr>\n",
       "  </tbody>\n",
       "</table>\n",
       "</div>"
      ],
      "text/plain": [
       "            df    sum_sq   mean_sq          F    PR(>F)\n",
       "treat      2.0  7.332016  3.666008  10.000755  0.000889\n",
       "Residual  21.0  7.698035  0.366573        NaN       NaN"
      ]
     },
     "execution_count": 21,
     "metadata": {},
     "output_type": "execute_result"
    }
   ],
   "source": [
    "data_transformed = data\n",
    "data_transformed['logy'] = np.log(data['value'])\n",
    "\n",
    "fit2=smf.ols('logy~treat', data).fit()\n",
    "sm.stats.anova_lm(fit2, typ=1)"
   ]
  },
  {
   "cell_type": "markdown",
   "id": "2f29bb57",
   "metadata": {},
   "source": [
    "#### 1-4) 자료변환된 데이터에대해 다시 잔차의 산점도를 작성하여라"
   ]
  },
  {
   "cell_type": "code",
   "execution_count": 22,
   "id": "cb10eb2d",
   "metadata": {},
   "outputs": [
    {
     "data": {
      "image/png": "[encoded data removed]",
      "text/plain": [
       "<Figure size 640x480 with 1 Axes>"
      ]
     },
     "metadata": {},
     "output_type": "display_data"
    }
   ],
   "source": [
    "data['predicted'] = fit2.predict()\n",
    "data['studentized_resid'] = fit2.get_influence().resid_studentized_internal\n",
    "\n",
    "sns.scatterplot(x='predicted', y='studentized_resid', hue='treat', data=data)\n",
    "plt.axhline(y=0, color=\"k\", linewidth=0.3)\n",
    "plt.xlabel('predicted value of Y')\n",
    "plt.ylabel('studentized value of Y')\n",
    "plt.legend(loc='center left', bbox_to_anchor=(1.0,0.5))\n",
    "plt.show()"
   ]
  },
  {
   "cell_type": "markdown",
   "id": "cda8e057",
   "metadata": {},
   "source": [
    "## 문제2\n",
    "보험회사 PanDas라이프는 A,B,C 권역별 보험 판매 대리점별로 매출액에 대해 분산분석을 시행하려고 한다. \n",
    "이때, 보험 상담사의 수에 따라 매출액이 영향을 받을 수 있으므로, 이를 고려하여 분산분석을 시행하려고 한다. \n",
    "보험회사가 조사하여 얻은 아래의 데이터를 참고하여 다음 가설 검정을 수행하시오\n",
    "\n",
    "귀무가설 : A,B,C 권역별 매출액의 평균은 모두 같다.\n",
    "대립가설 : 적어도 한 권역의 평균은 다르다."
   ]
  },
  {
   "cell_type": "code",
   "execution_count": 48,
   "id": "003a53e9",
   "metadata": {
    "scrolled": true
   },
   "outputs": [],
   "source": [
    "# <자료>\n",
    "\n",
    "import pandas as pd\n",
    "\n",
    "data = pd.DataFrame({\n",
    "    'region': ['A', 'A', 'A', 'A', 'B', 'B', 'B', 'B', 'C', 'C', 'C', 'C'],\n",
    "    'num_salesman': [1, 3, 2, 4, 6, 8, 7, 9, 11, 13, 12, 14],\n",
    "    'sales': [10, 50, 20, 100, 200, 500, 300, 700, 1000, 1500, 1300, 1800]\n",
    "})\n",
    "\n",
    "record = data.set_index(['region', 'num_salesman'], inplace=True)\n",
    "record"
   ]
  },
  {
   "cell_type": "code",
   "execution_count": 53,
   "id": "652e2cdc",
   "metadata": {},
   "outputs": [
    {
     "data": {
      "text/html": [
       "<div>\n",
       "<style scoped>\n",
       "    .dataframe tbody tr th:only-of-type {\n",
       "        vertical-align: middle;\n",
       "    }\n",
       "\n",
       "    .dataframe tbody tr th {\n",
       "        vertical-align: top;\n",
       "    }\n",
       "\n",
       "    .dataframe thead th {\n",
       "        text-align: right;\n",
       "    }\n",
       "</style>\n",
       "<table border=\"1\" class=\"dataframe\">\n",
       "  <thead>\n",
       "    <tr style=\"text-align: right;\">\n",
       "      <th></th>\n",
       "      <th>sum_sq</th>\n",
       "      <th>df</th>\n",
       "      <th>F</th>\n",
       "      <th>PR(&gt;F)</th>\n",
       "    </tr>\n",
       "  </thead>\n",
       "  <tbody>\n",
       "    <tr>\n",
       "      <th>Intercept</th>\n",
       "      <td>7.847218</td>\n",
       "      <td>1.0</td>\n",
       "      <td>69.351608</td>\n",
       "      <td>0.000033</td>\n",
       "    </tr>\n",
       "    <tr>\n",
       "      <th>C(region)</th>\n",
       "      <td>1.086130</td>\n",
       "      <td>2.0</td>\n",
       "      <td>4.799462</td>\n",
       "      <td>0.042699</td>\n",
       "    </tr>\n",
       "    <tr>\n",
       "      <th>num_salesman</th>\n",
       "      <td>3.266490</td>\n",
       "      <td>1.0</td>\n",
       "      <td>28.868364</td>\n",
       "      <td>0.000667</td>\n",
       "    </tr>\n",
       "    <tr>\n",
       "      <th>Residual</th>\n",
       "      <td>0.905210</td>\n",
       "      <td>8.0</td>\n",
       "      <td>NaN</td>\n",
       "      <td>NaN</td>\n",
       "    </tr>\n",
       "  </tbody>\n",
       "</table>\n",
       "</div>"
      ],
      "text/plain": [
       "                sum_sq   df          F    PR(>F)\n",
       "Intercept     7.847218  1.0  69.351608  0.000033\n",
       "C(region)     1.086130  2.0   4.799462  0.042699\n",
       "num_salesman  3.266490  1.0  28.868364  0.000667\n",
       "Residual      0.905210  8.0        NaN       NaN"
      ]
     },
     "execution_count": 53,
     "metadata": {},
     "output_type": "execute_result"
    }
   ],
   "source": [
    "# 문제풀이\n",
    "data = pd.DataFrame({\n",
    "    'region': ['A', 'A', 'A', 'A', 'B', 'B', 'B', 'B', 'C', 'C', 'C', 'C'],\n",
    "    'num_salesman': [1, 3, 2, 4, 6, 8, 7, 9, 11, 13, 12, 14],\n",
    "    'sales': [10, 50, 20, 100, 200, 500, 300, 700, 1000, 1500, 1300, 1800]\n",
    "})\n",
    "\n",
    "# 자료 변환 (로그 변환 적용)\n",
    "data['log_sales'] = np.log(data['sales'])\n",
    "\n",
    "# 공분산분석 수행\n",
    "fit = smf.ols('log_sales ~ num_salesman + C(region)', data=data).fit()\n",
    "sm.stats.anova_lm(fit, typ=3)"
   ]
  },
  {
   "cell_type": "markdown",
   "id": "1906da2d",
   "metadata": {},
   "source": [
    "#### 풀이\n",
    "region의 p-value가 0.0426999로 0.05보다 작으므로, 귀무가설을 기각한다. 즉, 적어도 한 권역의 평균 매출액은 다르다."
   ]
  },
  {
   "cell_type": "code",
   "execution_count": null,
   "id": "a73caf25",
   "metadata": {},
   "outputs": [],
   "source": []
  }
 ],
 "metadata": {
  "kernelspec": {
   "display_name": "Python 3 (ipykernel)",
   "language": "python",
   "name": "python3"
  },
  "language_info": {
   "codemirror_mode": {
    "name": "ipython",
    "version": 3
   },
   "file_extension": ".py",
   "mimetype": "text/x-python",
   "name": "python",
   "nbconvert_exporter": "python",
   "pygments_lexer": "ipython3",
   "version": "3.11.5"
  }
 },
 "nbformat": 4,
 "nbformat_minor": 5
}
