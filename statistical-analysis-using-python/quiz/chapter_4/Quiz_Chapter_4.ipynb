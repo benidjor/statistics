{
 "cells": [
  {
   "cell_type": "markdown",
   "metadata": {},
   "source": [
    "# 4장 표본분포에 대한 이해 Quiz"
   ]
  },
  {
   "cell_type": "code",
   "execution_count": null,
   "metadata": {},
   "outputs": [],
   "source": [
    "# 한글 깨짐 설정 (설정 후 런타임 재시작 필요)\n",
    "!sudo apt-get install -y fonts-nanum\n",
    "!sudo fc-cache -fv\n",
    "!rm ~/.cache/matplotlib -rf"
   ]
  },
  {
   "cell_type": "code",
   "execution_count": null,
   "metadata": {},
   "outputs": [],
   "source": [
    "import numpy as np\n",
    "import pandas as pd\n",
    "import matplotlib.pyplot as plt\n",
    "import seaborn as sns\n",
    "\n",
    "# default option 지정\n",
    "# plt.rcParams['figure.figsize'] = (8, 5)\n",
    "# plt.rcParams['figure.dpi'] = 100\n",
    "# plt.style.use(\"ggplot\")\n",
    "# plt.rcParams['axes.grid'] = True\n",
    "# plt.rcParams[\"patch.force_edgecolor\"] = True\n",
    "plt.rc('font', family='NanumBarunGothic')\n",
    "\n",
    "import warnings\n",
    "warnings.filterwarnings(\"ignore\")"
   ]
  },
  {
   "cell_type": "markdown",
   "metadata": {},
   "source": [
    "## 데이터셋 불러오기 : Hotel 데이터셋\n",
    "<br>\n",
    "\n",
    "> **hotel 데이터셋 설명 (Description)** <br>\n",
    "호텔 숙박 플랫폼에 등록된 예약 정보 데이터\n",
    "- 이전에 플랫폼을 사용하여 예약한 경험 + 취소 이력이 없는 사람으로 이루어진 데이터셋\n",
    "\n",
    "- `hotel` : 호텔 종류\n",
    "- `is_canceled` : 예매 취소 여부\n",
    "- `lead_time` : 예매한 날짜와 도착 날짜 사이에 경과된 일수\n",
    "- `arrival_date_year` : 도착 연도\n",
    "- `arrival_date_month` : 도착 월\n",
    "- `arrival_date_week_number` : 도착한 주 (e.g. 5주차)\n",
    "- `arrival_date_day_of_month` : 도착한 날짜(일)\n",
    "- `stays_in_weekend_nights` : 총 숙박 기간 중 주말 숙박의 개수\n",
    "\n",
    "- `stays_in_week_nights` : 총 숙박 기간 중 주중 숙박의 개수\n",
    "- `adults` : 숙박 고객 중 어른의 숫자\n",
    "- `children` : 숙박 고객 중 아이의 숫자\n",
    "- `deposit_type` : 보증금 종류\n",
    "- `days_in_waiting_list` : 고객이 예약을 확정하기 전 대기 리스트에 있던 일수\n",
    "- `adr` : 일일 평균 객실료 (모든 숙박 거래의 합계를 총 숙박 일수로 나눈 평균 일 요금)\n",
    "- `arrival_date` : 도착 날짜\n",
    "- `arrival_day` : 도착 요일\n",
    "- `reservation_status` : 예약 상태\n",
    "- `reservation_status_date` : 예약 상태가 변화한 날짜\n",
    "- `status_changed_day` : 예약 상태가 변화한 요일"
   ]
  },
  {
   "cell_type": "code",
   "execution_count": null,
   "metadata": {},
   "outputs": [],
   "source": [
    "hotel = pd.read_csv('hotel.csv')"
   ]
  },
  {
   "cell_type": "code",
   "execution_count": null,
   "metadata": {},
   "outputs": [],
   "source": [
    "hotel.head()"
   ]
  },
  {
   "cell_type": "markdown",
   "metadata": {},
   "source": [
    "## 1. 큰 수의 법칙 (Law of Large Numbers)\n",
    "\n",
    "- 무작위 column을 선택하여, 분포를 확인하고 큰 수의 법칙을 시각화 해보세요\n",
    "\n",
    "    - 큰 수의 법칙은 원래 무한대로 진행할 때 표본평균이 모평균에 가까워 진다는 것이 전제이지만, 데이터셋을 바탕으로 모평균에 얼마나 가까워지는지 확인해보세요\n",
    "\n"
   ]
  },
  {
   "cell_type": "code",
   "execution_count": null,
   "metadata": {},
   "outputs": [],
   "source": [
    "# 무작위 column의 분포와 평균을 확인하고, histplot으로 시각화 해보세요\n",
    "\n",
    "column = # column을 하나 골라주세요\n",
    "mean = hotel[column].mean()\n",
    "\n",
    "plt.figure(figsize=(10,8))\n",
    "col_value = hotel[column].values\n",
    "\n",
    "# histplot의 빈칸에 값을 넣어주세요\n",
    "sns.histplot(, kde=True)\n",
    "\n",
    "# 컬럼의 평균을 histplot에 초록 선으로 표시\n",
    "# 빈칸에 값을 넣어주세요\n",
    "plt.axvline(, c=\"green\", lw=2, label=\"Mean\")\n",
    "plt.title(\" 컬럼 분포\", fontsize=13, fontweight=\"bold\")\n",
    "plt.legend()\n",
    "plt.show()"
   ]
  },
  {
   "cell_type": "code",
   "execution_count": null,
   "metadata": {},
   "outputs": [],
   "source": [
    "np.random.seed(42)\n",
    "\n",
    "# 3, 10, 100개의 데이터 랜덤하게 선택\n",
    "# 위에서 사용한 col_value 변수를 사용하세요\n",
    "# 빈 칸에 답을 써주세요\n",
    "sample1 = np.random.choice(col_value, )\n",
    "sample2 = np.random.choice(col_value, )\n",
    "sample3 = np.random.choice(col_value, )\n",
    "\n",
    "# 랜덤하게 선택한 데이터들의 평균값 구한다\n",
    "sample_mean_3 = # 빈 칸에 답을 써주세요\n",
    "sample_mean_10 = # 빈 칸에 답을 써주세요\n",
    "sample_mean_100 = # 빈 칸에 답을 써주세요\n",
    "\n",
    "# 랜덤하게 선택한 데이터들의 평균값을 모집단의 평균과 비교\n",
    "plt.figure(figsize=(10,8))\n",
    "sns.histplot(,alpha=0.5)\n",
    "plt.axvline(, c='green', lw=2, label='Population Mean')\n",
    "plt.axvline(sample_mean_3, c='blue', lw=2, label='Mean of Sample Size 3')\n",
    "plt.axvline(sample_mean_10, c='yellow', lw=2, label = 'Mean of Sample Size 10')\n",
    "plt.axvline(sample_mean_100, c='red', lw=2, label = 'Mean of Sample Size 100')\n",
    "plt.title(\"랜덤하게 선택한 데이터들의 평균값을 모집단의 평균과 비교\", fontsize=13, fontweight=\"bold\")\n",
    "plt.legend()\n",
    "plt.show()"
   ]
  },
  {
   "cell_type": "markdown",
   "metadata": {},
   "source": [
    "## 2. 중심극한정리 (Central Limit Theorem)\n",
    "- 무작위 column 3개를 선택하여, 분포를 확인하고 중심극한정리를 시각화 해보세요."
   ]
  },
  {
   "cell_type": "code",
   "execution_count": null,
   "metadata": {},
   "outputs": [],
   "source": [
    "# 컬럼별 모집단 분포\n",
    "\n",
    "# 무작위 컬럼을 3개 골라, clt_cols 변수에 list로 만들어 선언해주세요\n",
    "clt_cols = []\n",
    "\n",
    "fig, ax = plt.subplots(1, 3, figsize=(16, 8))\n",
    "\n",
    "for i, col in enumerate(clt_cols):\n",
    "  # for loop 문 안에, 위에서 고른 3개의 컬럼의 분포를 histplot으로 시각화하는 코드를 작성해주세요\n",
    "  # kde=True를 사용해주세요"
   ]
  },
  {
   "cell_type": "code",
   "execution_count": null,
   "metadata": {},
   "outputs": [],
   "source": [
    "# 중심극한정리를 통해 정규분포 모양 갖는 것 확인\n",
    "\n",
    "np.random.seed(42)\n",
    "\n",
    "# 위에서 선택한 3개의 컬럼의 샘플을 추출하여, 평균값을 계산할 list를 선언해주세요\n",
    "col1_means_size_30 = []\n",
    "col2_means_size_30 = []\n",
    "col3_means_size_30 = []\n",
    "\n",
    "for _ in range(10000):\n",
    "  # 선택한 3개의 컬럼에서, sample size=30인 표본을 무작위로 만드는 코드를 작성하세요\n",
    "  \n",
    "  # 각 컬럼들의 평균값들을 위에서 만든 빈 list에 삽입하는 코드를 작성해주세요\n",
    "\n",
    "\n",
    "fig, axes = plt.subplots(1, 3, figsize=(16, 8))\n",
    "fig.suptitle(\"Central Limit Theorem (Sample Size = 30)\", fontsize=13, fontweight=\"bold\")\n",
    "\n",
    "\n",
    "# 빈 칸을 작성해주세요 \n",
    "# histplot 제목의 (컬럼 이름)도 선택한 컬럼의 이름을 넣어주세요\n",
    "sns.histplot(, ax=axes[0], kde=True)\n",
    "axes[0].set_title(\"(컬럼이름) 컬럼 평균 표본 분포\")\n",
    "\n",
    "sns.histplot(, ax=axes[1], kde=True)\n",
    "axes[1].set_title(\"(컬럼이름) 컬럼 평균 표본 분포\")\n",
    "\n",
    "sns.histplot(, ax=axes[2], kde=True)\n",
    "axes[2].set_title(\"(컬럼이름) 컬럼 평균 표본 분포\")\n",
    "plt.show()"
   ]
  },
  {
   "cell_type": "markdown",
   "metadata": {},
   "source": [
    "## 3. 카이제곱분포\n",
    "- 1.2 중심극한정리에서 사용한 컬럼의 표본평균의 분포를 바탕으로, 자유도에 따른 카이제곱분포를 그려보세요"
   ]
  },
  {
   "cell_type": "code",
   "execution_count": null,
   "metadata": {},
   "outputs": [],
   "source": [
    "import scipy.stats as stats\n",
    "\n",
    "# 중심극한정리 시각화 코드에서 사용한 하나의 컬럼의 표본 평균을 모아 놓은 list를 X에 선언하세요\n",
    "X = \n",
    "\n",
    "# 위에서 선언한 X를 표준화한 것을 X_std에 선언해주세요\n",
    "X_std = \n",
    "\n",
    "# 표준화한 컬럼의 표본평균의 분포를 히스토그램으로 시각화하세요\n",
    "sns.histplot(X_std, kde=True)\n",
    "plt.show()"
   ]
  },
  {
   "cell_type": "code",
   "execution_count": null,
   "metadata": {},
   "outputs": [],
   "source": [
    "# 카이제곱분포의 수식을 바탕으로, 해당 함수를 완성하고 자유도에 따른 카이제곱분포를 그려주세요\n",
    "\n",
    "# 수학적 Chisquare 분포 그리는 함수\n",
    "def plot_chisq(dof, ax, color='blue'):\n",
    "    x = np.linspace(0, 20, 399)\n",
    "    ax.plot(x, stats.chi2.pdf(x, dof), label=\"Mathematical Chisquare Distribution\", color=color)\n",
    "\n",
    "# 샘플에 따른 chisquare 분포를 그리는 함수\n",
    "def chi_dist(ax, n_sample):\n",
    "\n",
    "    xsqs = []\n",
    "\n",
    "    for _ in range(10000):\n",
    "        x = np.random.choice(, ) # 빈 칸에 알맞는 변수를 넣어주세요\n",
    "        xsqs.append() # 빈 칸에 알맞은 변수를 넣어주세요\n",
    "\n",
    "    xsqs = np.array(xsqs)\n",
    "\n",
    "    # 수학적 Chisquare 분포를 그리기\n",
    "    plot_chisq(n_sample, ax, color='blue')\n",
    "\n",
    "    # 샘플링된 Chisquare 분포를 히스토그램과 KDE로 그리기\n",
    "    sns.histplot(xsqs, ax=ax, kde=True, label=\"Chisquare Distribution By Sample\", color='orange', stat=\"density\")\n",
    "\n",
    "    ax.set_title(f\"Chisquare distribution by sample size {n_sample}\")\n",
    "    ax.legend()\n",
    "\n",
    "# 샘플 크기 목록\n",
    "sample_sizes = [5, 10, 20, 30] # 자유롭게 바꿔도 됩니다\n",
    "\n",
    "# 그래프 설정\n",
    "fig, axes = plt.subplots(1, len(sample_sizes), figsize=(20, 5), sharey=True)\n",
    "\n",
    "# 반복문을 통해 여러 샘플 크기에 대해 시각화\n",
    "for ax, n_sample in zip(axes, sample_sizes):\n",
    "    chi_dist(ax, n_sample)\n",
    "\n",
    "plt.tight_layout()\n",
    "plt.show()"
   ]
  }
 ],
 "metadata": {
  "kernelspec": {
   "display_name": "weather",
   "language": "python",
   "name": "python3"
  },
  "language_info": {
   "codemirror_mode": {
    "name": "ipython",
    "version": 3
   },
   "file_extension": ".py",
   "mimetype": "text/x-python",
   "name": "python",
   "nbconvert_exporter": "python",
   "pygments_lexer": "ipython3",
   "version": "3.11.0"
  }
 },
 "nbformat": 4,
 "nbformat_minor": 2
}
