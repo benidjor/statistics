{
 "cells": [
  {
   "cell_type": "code",
   "execution_count": 16,
   "metadata": {},
   "outputs": [],
   "source": [
    "import pandas as pd\n",
    "import numpy as np\n",
    "import seaborn as sns\n",
    "import matplotlib.pyplot as plt"
   ]
  },
  {
   "cell_type": "markdown",
   "metadata": {},
   "source": [
    "# 1. 정규분포와 관련하여 아래를 푸시오"
   ]
  },
  {
   "cell_type": "markdown",
   "metadata": {},
   "source": [
    "1-1. 평균이 0이고 표준편차가 1인 정규분포를 따르는 난수 1000개를 생성하고, 이를 히스토그램으로 시각화하시오."
   ]
  },
  {
   "cell_type": "code",
   "execution_count": null,
   "metadata": {},
   "outputs": [],
   "source": []
  },
  {
   "cell_type": "markdown",
   "metadata": {},
   "source": [
    "1-2. 확률변수 X가 정규분포 N(30, 4^2)을 따를 때, X가 26보다 크고 32보다 작을 확률을 구하시오.\n",
    "(stats 모듈의 norm.cdf() 함수를 사용)"
   ]
  },
  {
   "cell_type": "code",
   "execution_count": 1,
   "metadata": {},
   "outputs": [],
   "source": [
    "from scipy.stats import norm\n",
    "\n"
   ]
  },
  {
   "cell_type": "markdown",
   "metadata": {},
   "source": [
    "# 2. 아래 투자자산(asset) 데이터를 활용하여 문제를 푸시오."
   ]
  },
  {
   "cell_type": "code",
   "execution_count": 20,
   "metadata": {},
   "outputs": [
    {
     "data": {
      "text/html": [
       "<div>\n",
       "<style scoped>\n",
       "    .dataframe tbody tr th:only-of-type {\n",
       "        vertical-align: middle;\n",
       "    }\n",
       "\n",
       "    .dataframe tbody tr th {\n",
       "        vertical-align: top;\n",
       "    }\n",
       "\n",
       "    .dataframe thead th {\n",
       "        text-align: right;\n",
       "    }\n",
       "</style>\n",
       "<table border=\"1\" class=\"dataframe\">\n",
       "  <thead>\n",
       "    <tr style=\"text-align: right;\">\n",
       "      <th></th>\n",
       "      <th>asset_1</th>\n",
       "      <th>asset_2</th>\n",
       "      <th>asset_3</th>\n",
       "      <th>asset_4</th>\n",
       "      <th>asset_5</th>\n",
       "    </tr>\n",
       "  </thead>\n",
       "  <tbody>\n",
       "    <tr>\n",
       "      <th>2024-01-01</th>\n",
       "      <td>116.680473</td>\n",
       "      <td>100.872181</td>\n",
       "      <td>110.705309</td>\n",
       "      <td>109.309287</td>\n",
       "      <td>121.474337</td>\n",
       "    </tr>\n",
       "    <tr>\n",
       "      <th>2024-01-02</th>\n",
       "      <td>107.373477</td>\n",
       "      <td>101.038664</td>\n",
       "      <td>121.051588</td>\n",
       "      <td>108.776413</td>\n",
       "      <td>90.517649</td>\n",
       "    </tr>\n",
       "    <tr>\n",
       "      <th>2024-01-03</th>\n",
       "      <td>97.984622</td>\n",
       "      <td>106.899417</td>\n",
       "      <td>97.279645</td>\n",
       "      <td>101.457705</td>\n",
       "      <td>102.877718</td>\n",
       "    </tr>\n",
       "    <tr>\n",
       "      <th>2024-01-04</th>\n",
       "      <td>98.490881</td>\n",
       "      <td>104.705930</td>\n",
       "      <td>103.199261</td>\n",
       "      <td>84.587196</td>\n",
       "      <td>98.550567</td>\n",
       "    </tr>\n",
       "    <tr>\n",
       "      <th>2024-01-05</th>\n",
       "      <td>109.160518</td>\n",
       "      <td>83.894956</td>\n",
       "      <td>95.737577</td>\n",
       "      <td>98.098110</td>\n",
       "      <td>103.498586</td>\n",
       "    </tr>\n",
       "    <tr>\n",
       "      <th>...</th>\n",
       "      <td>...</td>\n",
       "      <td>...</td>\n",
       "      <td>...</td>\n",
       "      <td>...</td>\n",
       "      <td>...</td>\n",
       "    </tr>\n",
       "    <tr>\n",
       "      <th>2024-04-05</th>\n",
       "      <td>95.525711</td>\n",
       "      <td>89.842377</td>\n",
       "      <td>97.055992</td>\n",
       "      <td>106.921541</td>\n",
       "      <td>82.646771</td>\n",
       "    </tr>\n",
       "    <tr>\n",
       "      <th>2024-04-06</th>\n",
       "      <td>87.727008</td>\n",
       "      <td>89.644708</td>\n",
       "      <td>97.224996</td>\n",
       "      <td>87.947793</td>\n",
       "      <td>104.178540</td>\n",
       "    </tr>\n",
       "    <tr>\n",
       "      <th>2024-04-07</th>\n",
       "      <td>88.967058</td>\n",
       "      <td>122.041110</td>\n",
       "      <td>103.948587</td>\n",
       "      <td>101.479909</td>\n",
       "      <td>106.513537</td>\n",
       "    </tr>\n",
       "    <tr>\n",
       "      <th>2024-04-08</th>\n",
       "      <td>91.521323</td>\n",
       "      <td>89.821356</td>\n",
       "      <td>65.792644</td>\n",
       "      <td>106.941867</td>\n",
       "      <td>105.429140</td>\n",
       "    </tr>\n",
       "    <tr>\n",
       "      <th>2024-04-09</th>\n",
       "      <td>94.544124</td>\n",
       "      <td>77.262369</td>\n",
       "      <td>70.686088</td>\n",
       "      <td>97.946298</td>\n",
       "      <td>100.586071</td>\n",
       "    </tr>\n",
       "  </tbody>\n",
       "</table>\n",
       "<p>100 rows × 5 columns</p>\n",
       "</div>"
      ],
      "text/plain": [
       "               asset_1     asset_2     asset_3     asset_4     asset_5\n",
       "2024-01-01  116.680473  100.872181  110.705309  109.309287  121.474337\n",
       "2024-01-02  107.373477  101.038664  121.051588  108.776413   90.517649\n",
       "2024-01-03   97.984622  106.899417   97.279645  101.457705  102.877718\n",
       "2024-01-04   98.490881  104.705930  103.199261   84.587196   98.550567\n",
       "2024-01-05  109.160518   83.894956   95.737577   98.098110  103.498586\n",
       "...                ...         ...         ...         ...         ...\n",
       "2024-04-05   95.525711   89.842377   97.055992  106.921541   82.646771\n",
       "2024-04-06   87.727008   89.644708   97.224996   87.947793  104.178540\n",
       "2024-04-07   88.967058  122.041110  103.948587  101.479909  106.513537\n",
       "2024-04-08   91.521323   89.821356   65.792644  106.941867  105.429140\n",
       "2024-04-09   94.544124   77.262369   70.686088   97.946298  100.586071\n",
       "\n",
       "[100 rows x 5 columns]"
      ]
     },
     "execution_count": 20,
     "metadata": {},
     "output_type": "execute_result"
    }
   ],
   "source": [
    "np.random.seed(2024)\n",
    "\n",
    "dates = pd.date_range(start='2024-01-01', periods=100)\n",
    "asset_data = {\n",
    "    f'asset_{i}': np.random.normal(100, 10, 100) for i in range(1, 6)\n",
    "}\n",
    "\n",
    "data = pd.DataFrame(asset_data, index=dates)\n",
    "data"
   ]
  },
  {
   "cell_type": "markdown",
   "metadata": {},
   "source": [
    "2-1. 각 자산(asset) 간의 상관계수를 계산하시오"
   ]
  },
  {
   "cell_type": "code",
   "execution_count": null,
   "metadata": {},
   "outputs": [],
   "source": []
  },
  {
   "cell_type": "markdown",
   "metadata": {},
   "source": [
    "2-2. 각 자산 간의 상관계수를 히트맵을 통해 시각화하시오"
   ]
  },
  {
   "cell_type": "code",
   "execution_count": null,
   "metadata": {},
   "outputs": [],
   "source": []
  },
  {
   "cell_type": "markdown",
   "metadata": {},
   "source": [
    "2-3. pearsonr 코드를 사용하여 각 상관계수에 대한 통계적 유의성을 검정할 수 있도록 p_value 행렬로 나타내시오."
   ]
  },
  {
   "cell_type": "code",
   "execution_count": null,
   "metadata": {},
   "outputs": [],
   "source": [
    "from scipy.stats import pearsonr\n",
    "\n",
    "p_values = pd.DataFrame(np.zeros((data.shape[1], data.shape[1])), columns=data.columns, index=data.columns)\n",
    "\n"
   ]
  },
  {
   "cell_type": "markdown",
   "metadata": {},
   "source": [
    "2-4. 위에서 구한 p_value 행렬을 히트맵으로 시각화하시오"
   ]
  },
  {
   "cell_type": "code",
   "execution_count": null,
   "metadata": {},
   "outputs": [],
   "source": []
  }
 ],
 "metadata": {
  "kernelspec": {
   "display_name": "grootman",
   "language": "python",
   "name": "python3"
  },
  "language_info": {
   "codemirror_mode": {
    "name": "ipython",
    "version": 3
   },
   "file_extension": ".py",
   "mimetype": "text/x-python",
   "name": "python",
   "nbconvert_exporter": "python",
   "pygments_lexer": "ipython3",
   "version": "3.11.5"
  }
 },
 "nbformat": 4,
 "nbformat_minor": 2
}
