{
 "cells": [
  {
   "cell_type": "markdown",
   "id": "b454ee65",
   "metadata": {},
   "source": [
    "# 통계 스터디 7장 Solution"
   ]
  },
  {
   "cell_type": "code",
   "execution_count": 1,
   "id": "75d7b4ea",
   "metadata": {
    "ExecuteTime": {
     "end_time": "2024-07-13T03:33:57.948808Z",
     "start_time": "2024-07-13T03:33:57.042838Z"
    }
   },
   "outputs": [],
   "source": [
    "import pandas as pd\n",
    "import numpy as np\n",
    "from scipy import stats\n",
    "import math\n",
    "\n",
    "import warnings\n",
    "warnings.filterwarnings('ignore')"
   ]
  },
  {
   "cell_type": "markdown",
   "id": "2418a243",
   "metadata": {},
   "source": [
    "---"
   ]
  },
  {
   "cell_type": "markdown",
   "id": "1737aba6",
   "metadata": {},
   "source": [
    "### 1.\n",
    "\n",
    "'(주)우사인너트'는 볼트를 만드는 제조업 회사입니다. '(주)우사인너트'의 품질경영 책임자 A씨는 자사 제품의 결함률을 15%라고 가정했습니다. 무작위로 100개의 제품을 샘플링하여 결함 여부를 조사해 본 결과, 100개의 제품 중 20개가 결함이 있는 것으로 나타났습니다. A씨는 자신의 가정이 타당했다고 볼 수 있는지 평가하고자 합니다."
   ]
  },
  {
   "cell_type": "markdown",
   "id": "9a0bb882",
   "metadata": {},
   "source": [
    "#### (1)\n",
    "\n",
    "$X_i$와 $E_i$를 구하세요."
   ]
  },
  {
   "cell_type": "code",
   "execution_count": 2,
   "id": "16dfaef0",
   "metadata": {
    "ExecuteTime": {
     "end_time": "2024-07-13T03:34:00.027525Z",
     "start_time": "2024-07-13T03:33:59.998543Z"
    }
   },
   "outputs": [
    {
     "name": "stdout",
     "output_type": "stream",
     "text": [
      "X_i: 20, E_i: 15\n"
     ]
    }
   ],
   "source": [
    "x_i = 20\n",
    "n = 100\n",
    "p = 0.15\n",
    "\n",
    "e_i = int(n * p)\n",
    "\n",
    "print(f\"X_i: {x_i}, E_i: {e_i}\")"
   ]
  },
  {
   "cell_type": "markdown",
   "id": "2824e26f",
   "metadata": {},
   "source": [
    "#### (2)\n",
    "\n",
    "유의수준 0.05에서 A씨의 가설이 타당한지 적합도검정을 수행하세요."
   ]
  },
  {
   "cell_type": "code",
   "execution_count": 3,
   "id": "0490ad54",
   "metadata": {
    "ExecuteTime": {
     "end_time": "2024-07-13T03:34:11.289826Z",
     "start_time": "2024-07-13T03:34:11.279852Z"
    }
   },
   "outputs": [
    {
     "name": "stdout",
     "output_type": "stream",
     "text": [
      "가설이 타당함.\n"
     ]
    }
   ],
   "source": [
    "alpha = 0.05\n",
    "\n",
    "p_value = stats.binom_test(x_i, n, p, alternative='two-sided')\n",
    "\n",
    "if p_value < alpha:\n",
    "    print(\"가설이 타당하지 않음.\")\n",
    "else:\n",
    "    print(\"가설이 타당함.\")"
   ]
  },
  {
   "cell_type": "markdown",
   "id": "05afe4bb",
   "metadata": {},
   "source": [
    "#### (3)\n",
    "\n",
    "유의수준 0.2에서 A씨의 가설이 타당한지 적합도검정을 수행하세요."
   ]
  },
  {
   "cell_type": "code",
   "execution_count": 4,
   "id": "2e99e2f0",
   "metadata": {
    "ExecuteTime": {
     "end_time": "2024-07-13T03:34:13.119359Z",
     "start_time": "2024-07-13T03:34:13.114044Z"
    }
   },
   "outputs": [
    {
     "name": "stdout",
     "output_type": "stream",
     "text": [
      "가설이 타당하지 않음.\n"
     ]
    }
   ],
   "source": [
    "alpha = 0.2\n",
    "\n",
    "p_value = stats.binom_test(x_i, n, p, alternative='two-sided')\n",
    "\n",
    "if p_value < alpha:\n",
    "    print(\"가설이 타당하지 않음.\")\n",
    "else:\n",
    "    print(\"가설이 타당함.\")"
   ]
  },
  {
   "cell_type": "markdown",
   "id": "aca1b47f",
   "metadata": {},
   "source": [
    "---"
   ]
  },
  {
   "cell_type": "markdown",
   "id": "6c2e8165",
   "metadata": {},
   "source": [
    "### 2.\n",
    "\n",
    "배달앱 '국밥이츠'의 전략기획실에서 지난 한 달 동안의 판매 실적 데이터를 분석한 결과가 다음과 같습니다.\n",
    "- 최근 한 달 동안 '치킨' 카테고리의 판매량이 큰 폭으로 하락한 동향을 포착하였음.\n",
    "- 현재 '국밥이츠'의 BM(비즈니스 모델) 상에서, '치킨' 카테고리는 가장 높은 Revenue(매출액)를 내는 카테고리임.\n",
    "- 현재의 저조한 치킨 판매 추이를 반영하여 top-line projection(매출액 예측)을 진행한 결과, VC(투자사)에서 요구한 성장률을 만족시킬 수 없음을 식별하였음.\n",
    "\n",
    "이 결과를 토대로, '국밥이츠'의 마케팅 팀은 '치킨' 카테고리에 대한 매출액 부스팅을 아젠다로 설정하고, STP전략을 활용한 마케팅 플레이를 기획하고자 합니다. 마케팅 팀에서 가장 먼저 확인하고 싶은 건 성별에 따른 메뉴 선호도의 차이입니다.\n",
    "\n",
    "'국밥이츠'의 데이터분석가인 B씨는 마케팅 팀의 분석을 백업하고자 합니다. B씨가 현재 가지고 있는 데이터는 유저 200명을 대상으로 진행한 리서치 결과이며 이는 다음과 같습니다."
   ]
  },
  {
   "cell_type": "code",
   "execution_count": 5,
   "id": "0d026b81",
   "metadata": {
    "ExecuteTime": {
     "end_time": "2024-07-13T03:34:16.383893Z",
     "start_time": "2024-07-13T03:34:16.359708Z"
    },
    "scrolled": true
   },
   "outputs": [
    {
     "data": {
      "text/html": [
       "<div>\n",
       "<style scoped>\n",
       "    .dataframe tbody tr th:only-of-type {\n",
       "        vertical-align: middle;\n",
       "    }\n",
       "\n",
       "    .dataframe tbody tr th {\n",
       "        vertical-align: top;\n",
       "    }\n",
       "\n",
       "    .dataframe thead th {\n",
       "        text-align: right;\n",
       "    }\n",
       "</style>\n",
       "<table border=\"1\" class=\"dataframe\">\n",
       "  <thead>\n",
       "    <tr style=\"text-align: right;\">\n",
       "      <th></th>\n",
       "      <th>후라이드</th>\n",
       "      <th>양념</th>\n",
       "      <th>합계</th>\n",
       "    </tr>\n",
       "  </thead>\n",
       "  <tbody>\n",
       "    <tr>\n",
       "      <th>남성</th>\n",
       "      <td>50</td>\n",
       "      <td>30</td>\n",
       "      <td>80</td>\n",
       "    </tr>\n",
       "    <tr>\n",
       "      <th>여성</th>\n",
       "      <td>70</td>\n",
       "      <td>50</td>\n",
       "      <td>120</td>\n",
       "    </tr>\n",
       "    <tr>\n",
       "      <th>합계</th>\n",
       "      <td>120</td>\n",
       "      <td>80</td>\n",
       "      <td>200</td>\n",
       "    </tr>\n",
       "  </tbody>\n",
       "</table>\n",
       "</div>"
      ],
      "text/plain": [
       "    후라이드  양념   합계\n",
       "남성    50  30   80\n",
       "여성    70  50  120\n",
       "합계   120  80  200"
      ]
     },
     "execution_count": 5,
     "metadata": {},
     "output_type": "execute_result"
    }
   ],
   "source": [
    "df = pd.DataFrame({\n",
    "    '후라이드': {'남성': 50, '여성': 70, '합계': 120},\n",
    "    '양념': {'남성': 30, '여성': 50, '합계': 80},\n",
    "    '합계': {'남성': 80, '여성': 120, '합계': 200}\n",
    "})\n",
    "\n",
    "df"
   ]
  },
  {
   "cell_type": "markdown",
   "id": "7554079e",
   "metadata": {},
   "source": [
    "B씨는 리서치 결과를 분석하여, 성별과 메뉴 선호도가 독립적인지 확인하고자 합니다."
   ]
  },
  {
   "cell_type": "markdown",
   "id": "2e79f125",
   "metadata": {},
   "source": [
    "#### (1)\n",
    "유의수준 0.05에서 카이제곱 검정을 수행하세요. 이때 데이터의 형태를 잘 살펴, 올바른 데이터만 들어가게 구성하세요."
   ]
  },
  {
   "cell_type": "code",
   "execution_count": 6,
   "id": "d6e56abf",
   "metadata": {
    "ExecuteTime": {
     "end_time": "2024-07-13T03:34:21.073849Z",
     "start_time": "2024-07-13T03:34:21.053959Z"
    }
   },
   "outputs": [
    {
     "name": "stdout",
     "output_type": "stream",
     "text": [
      "성별과 메뉴 선호도는 독립적임\n"
     ]
    }
   ],
   "source": [
    "alpha = 0.05\n",
    "\n",
    "chi2, p, _, __ = stats.chi2_contingency(df.iloc[:2, :2])\n",
    "\n",
    "alpha = 0.05\n",
    "if p < alpha:\n",
    "    print(\"성별과 메뉴 선호도는 독립적이지 않음\")\n",
    "else:\n",
    "    print(\"성별과 메뉴 선호도는 독립적임\")"
   ]
  },
  {
   "cell_type": "markdown",
   "id": "2b8b031b",
   "metadata": {},
   "source": [
    "#### (2)\n",
    "분할계수를 구하고 이를 해석하세요."
   ]
  },
  {
   "cell_type": "code",
   "execution_count": 7,
   "id": "070b7cdd",
   "metadata": {
    "ExecuteTime": {
     "end_time": "2024-07-13T03:34:30.512482Z",
     "start_time": "2024-07-13T03:34:30.503696Z"
    }
   },
   "outputs": [
    {
     "name": "stdout",
     "output_type": "stream",
     "text": [
      "0.0312\n"
     ]
    }
   ],
   "source": [
    "total = df.iloc[:2, :2].sum().sum()\n",
    "C = np.sqrt(chi2 / (total + chi2))\n",
    "print(np.round(C, 4))"
   ]
  }
 ],
 "metadata": {
  "kernelspec": {
   "display_name": "Python 3 (ipykernel)",
   "language": "python",
   "name": "python3"
  },
  "language_info": {
   "codemirror_mode": {
    "name": "ipython",
    "version": 3
   },
   "file_extension": ".py",
   "mimetype": "text/x-python",
   "name": "python",
   "nbconvert_exporter": "python",
   "pygments_lexer": "ipython3",
   "version": "3.9.16"
  },
  "toc": {
   "base_numbering": 1,
   "nav_menu": {},
   "number_sections": false,
   "sideBar": true,
   "skip_h1_title": false,
   "title_cell": "Table of Contents",
   "title_sidebar": "Contents",
   "toc_cell": false,
   "toc_position": {},
   "toc_section_display": true,
   "toc_window_display": false
  }
 },
 "nbformat": 4,
 "nbformat_minor": 5
}
