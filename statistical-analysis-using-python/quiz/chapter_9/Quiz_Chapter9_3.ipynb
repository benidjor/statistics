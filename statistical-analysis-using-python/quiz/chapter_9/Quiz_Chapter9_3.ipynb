{
 "cells": [
  {
   "cell_type": "markdown",
   "id": "b454ee65",
   "metadata": {},
   "source": [
    "# 통계 스터디 9장 Quiz (3)"
   ]
  },
  {
   "cell_type": "code",
   "execution_count": 1,
   "id": "cc1c379a",
   "metadata": {
    "ExecuteTime": {
     "end_time": "2024-08-16T20:06:23.986075Z",
     "start_time": "2024-08-16T20:06:22.331387Z"
    }
   },
   "outputs": [],
   "source": [
    "import numpy as np\n",
    "import pandas as pd\n",
    "import statsmodels.api as sm\n",
    "from statsmodels.stats.stattools import durbin_watson"
   ]
  },
  {
   "cell_type": "markdown",
   "id": "0439740f",
   "metadata": {},
   "source": [
    "---"
   ]
  },
  {
   "cell_type": "markdown",
   "id": "7dfbc7b9",
   "metadata": {},
   "source": [
    "### 3.\n",
    "\n",
    "마케팅 솔루션 업체 '다판다'에서는 마케팅 집행비에 따른 실적을 점검하고 있습니다. 특히 핵심 고객사의 광고비와 그 판매량이 어떻게 변화해 오고 있는지 확인하는 것은 '다판다'의 데이터 분석가에게 굉장히 중요한 업무입니다."
   ]
  },
  {
   "cell_type": "code",
   "execution_count": 2,
   "id": "b842a294",
   "metadata": {
    "ExecuteTime": {
     "end_time": "2024-08-16T20:06:26.170650Z",
     "start_time": "2024-08-16T20:06:26.147815Z"
    }
   },
   "outputs": [
    {
     "data": {
      "text/html": [
       "<div>\n",
       "<style scoped>\n",
       "    .dataframe tbody tr th:only-of-type {\n",
       "        vertical-align: middle;\n",
       "    }\n",
       "\n",
       "    .dataframe tbody tr th {\n",
       "        vertical-align: top;\n",
       "    }\n",
       "\n",
       "    .dataframe thead th {\n",
       "        text-align: right;\n",
       "    }\n",
       "</style>\n",
       "<table border=\"1\" class=\"dataframe\">\n",
       "  <thead>\n",
       "    <tr style=\"text-align: right;\">\n",
       "      <th></th>\n",
       "      <th>광고비(만원)</th>\n",
       "      <th>판매량(개)</th>\n",
       "    </tr>\n",
       "  </thead>\n",
       "  <tbody>\n",
       "    <tr>\n",
       "      <th>0</th>\n",
       "      <td>269.5</td>\n",
       "      <td>3699</td>\n",
       "    </tr>\n",
       "    <tr>\n",
       "      <th>1</th>\n",
       "      <td>151.3</td>\n",
       "      <td>2507</td>\n",
       "    </tr>\n",
       "    <tr>\n",
       "      <th>2</th>\n",
       "      <td>815.0</td>\n",
       "      <td>6606</td>\n",
       "    </tr>\n",
       "    <tr>\n",
       "      <th>3</th>\n",
       "      <td>778.6</td>\n",
       "      <td>5933</td>\n",
       "    </tr>\n",
       "    <tr>\n",
       "      <th>4</th>\n",
       "      <td>305.9</td>\n",
       "      <td>4320</td>\n",
       "    </tr>\n",
       "    <tr>\n",
       "      <th>...</th>\n",
       "      <td>...</td>\n",
       "      <td>...</td>\n",
       "    </tr>\n",
       "    <tr>\n",
       "      <th>95</th>\n",
       "      <td>578.6</td>\n",
       "      <td>4696</td>\n",
       "    </tr>\n",
       "    <tr>\n",
       "      <th>96</th>\n",
       "      <td>678.6</td>\n",
       "      <td>5482</td>\n",
       "    </tr>\n",
       "    <tr>\n",
       "      <th>97</th>\n",
       "      <td>196.8</td>\n",
       "      <td>2276</td>\n",
       "    </tr>\n",
       "    <tr>\n",
       "      <th>98</th>\n",
       "      <td>542.3</td>\n",
       "      <td>4334</td>\n",
       "    </tr>\n",
       "    <tr>\n",
       "      <th>99</th>\n",
       "      <td>115.0</td>\n",
       "      <td>1991</td>\n",
       "    </tr>\n",
       "  </tbody>\n",
       "</table>\n",
       "<p>100 rows × 2 columns</p>\n",
       "</div>"
      ],
      "text/plain": [
       "    광고비(만원)  판매량(개)\n",
       "0     269.5    3699\n",
       "1     151.3    2507\n",
       "2     815.0    6606\n",
       "3     778.6    5933\n",
       "4     305.9    4320\n",
       "..      ...     ...\n",
       "95    578.6    4696\n",
       "96    678.6    5482\n",
       "97    196.8    2276\n",
       "98    542.3    4334\n",
       "99    115.0    1991\n",
       "\n",
       "[100 rows x 2 columns]"
      ]
     },
     "execution_count": 2,
     "metadata": {},
     "output_type": "execute_result"
    }
   ],
   "source": [
    "data = pd.read_csv('Quiz_Chapter9_data.csv', index_col=0)\n",
    "data"
   ]
  },
  {
   "cell_type": "markdown",
   "id": "03b6c2ca",
   "metadata": {},
   "source": [
    "지난 100개월 동안의 광고비 및 판매량 데이터를 토대로 다음 물음에 답하시오."
   ]
  },
  {
   "cell_type": "markdown",
   "id": "cde9fb76",
   "metadata": {},
   "source": [
    "#### (1)\n",
    "\n",
    "광고비와 판매량 사이에 양의 상관관계가 존재하는지 확인하시오.\n",
    "\n",
    "    Hint: 상수항 `sm.add_constant()`\n",
    "    Hint: 최소제곱법 모델 `sm.OLS()`\n",
    "    Hint: 모델 적합 `model.fit()`\n",
    "    Hint: 모델 요약 `model.summary()`"
   ]
  },
  {
   "cell_type": "code",
   "execution_count": null,
   "id": "d0b596ee",
   "metadata": {},
   "outputs": [],
   "source": []
  },
  {
   "cell_type": "markdown",
   "id": "35137617",
   "metadata": {},
   "source": [
    "#### (2)\n",
    "\n",
    "자기상관이 존재하는지 확인하시오.\n",
    "\n",
    "    Hint: 모델 잔차 `model.resid`\n",
    "    Hint: 더빈-왓슨 검정 `durbin_watson()`"
   ]
  },
  {
   "cell_type": "code",
   "execution_count": null,
   "id": "c249a30d",
   "metadata": {},
   "outputs": [],
   "source": []
  }
 ],
 "metadata": {
  "kernelspec": {
   "display_name": "Python 3 (ipykernel)",
   "language": "python",
   "name": "python3"
  },
  "language_info": {
   "codemirror_mode": {
    "name": "ipython",
    "version": 3
   },
   "file_extension": ".py",
   "mimetype": "text/x-python",
   "name": "python",
   "nbconvert_exporter": "python",
   "pygments_lexer": "ipython3",
   "version": "3.9.16"
  },
  "toc": {
   "base_numbering": 1,
   "nav_menu": {},
   "number_sections": false,
   "sideBar": true,
   "skip_h1_title": false,
   "title_cell": "Table of Contents",
   "title_sidebar": "Contents",
   "toc_cell": false,
   "toc_position": {},
   "toc_section_display": true,
   "toc_window_display": false
  }
 },
 "nbformat": 4,
 "nbformat_minor": 5
}
