{
 "cells": [
  {
   "cell_type": "markdown",
   "id": "de992662",
   "metadata": {},
   "source": [
    "# 5장 통계적 추정 퀴즈"
   ]
  },
  {
   "cell_type": "code",
   "execution_count": 2,
   "id": "71372e0b",
   "metadata": {},
   "outputs": [],
   "source": [
    "import pandas as pd\n",
    "import numpy as np"
   ]
  },
  {
   "cell_type": "markdown",
   "id": "b330dab6",
   "metadata": {},
   "source": [
    "# 문제1\n",
    "다음 표본은 어떤 영화를 관람한 사람들의 연령을 조사한 표본이다. 해당 표본을 보고 전체 영화 관객의 평균 연령과 그 분산을 추정하여라"
   ]
  },
  {
   "cell_type": "code",
   "execution_count": 13,
   "id": "8ac663b9",
   "metadata": {},
   "outputs": [],
   "source": [
    "Q1 = pd.DataFrame([10,20,17,18,37,45,59,30,24,15,11,49,55,30])\n",
    "\n",
    "#평균의 최소분산불편추정량\n",
    "X = np.____(Q1)\n",
    "\n",
    "#분산의 불편추정량\n",
    "sigma_x = 0\n",
    "\n",
    "for age in Q1:\n",
    "    sigma_x = (age - X) * (age - X) + sigma_x\n",
    "    \n",
    "S_square = _____     "
   ]
  },
  {
   "cell_type": "code",
   "execution_count": null,
   "id": "c463c475",
   "metadata": {},
   "outputs": [],
   "source": [
    "print(X)\n",
    "print(S_square)"
   ]
  },
  {
   "cell_type": "markdown",
   "id": "611479b1",
   "metadata": {},
   "source": [
    "# 문제2\n",
    "어느 상점에서는 특정 상품이 하루에 평균 몇 개나 팔릴 것인가를 알아보기 위해 20일 동안 조사한 결과, X바=32, s=12를 얻었더. \n",
    "이 자료로 모평균 mu에 대한 95% 신뢰수준의 신뢰구간을 구하여라\n",
    "단, 자유도 19의 t0.025의 값은 2.093이다.\n",
    "\n",
    "np.sqrt와 np.round를 사용하여 소수점 2째자리까지 구하시오"
   ]
  },
  {
   "cell_type": "code",
   "execution_count": null,
   "id": "26319fdd",
   "metadata": {},
   "outputs": [],
   "source": [
    "x=32\n",
    "s=12\n",
    "t0025=2.093\n",
    "\n",
    "print(np.round(_____-_____*(_____ /____),2))\n",
    "print(np.round(_____+_____*(_____ /____),2))"
   ]
  },
  {
   "cell_type": "markdown",
   "id": "46d38536",
   "metadata": {},
   "source": [
    "# 문제3\n",
    "어느 신용카드 회사에서는 20대 가입자들의 연체율(p)에 대한 99%의 신뢰수준의 신뢰구간을 얻기 위하여 20대 가입자 150명을 대상으로 조사한 결과,15명이 연체를 하였다.\n",
    "\n",
    "이때 모비율 p의 신뢰구간을 구하시오.\n",
    "\n",
    "단, Z0.005의 값은 2.575이다.\n",
    "\n",
    "np.sqrt와 np.round를 사용하여 소수점 4째자리까지 구하시오"
   ]
  },
  {
   "cell_type": "code",
   "execution_count": null,
   "id": "05057eef",
   "metadata": {},
   "outputs": [],
   "source": [
    "p = 0.1\n",
    "n=150\n",
    "z0005 = 2.575\n",
    "\n",
    "print(________)\n",
    "print(________)"
   ]
  },
  {
   "cell_type": "markdown",
   "id": "0d0dcd92",
   "metadata": {},
   "source": [
    "# 문제4\n",
    "어느 회사에서는 여자 직원과 남자 직원의 주당 근무시간 차이를 알아보기 위해서 여자 직원 중 14명, 남자 직원 중 7명을 표본으로 하여 주 근무시간을 조사한 결과 다음과 같았다.\n",
    "\n",
    "여자 직원들의 근무시간(X_)와 남자 직원들의 근무시간(Y_)의 차이에 대한 95% 신뢰구간을 구하여라\n",
    "\n",
    "단, 이때 자유도 19의 t값은 2.093으로 한다.\n",
    "두 집단의 모분산은 동일하다고 가정한다."
   ]
  },
  {
   "cell_type": "code",
   "execution_count": 54,
   "id": "1fc5c269",
   "metadata": {},
   "outputs": [],
   "source": [
    "#<여자직원>\n",
    "n1 = 14\n",
    "x_ = 53.0\n",
    "s_square_x = 96.8\n",
    "\n",
    "#<남자직원>\n",
    "n2 = 7\n",
    "y_ = 43.4\n",
    "s_square_y = 102\n",
    "\n",
    "t = 2.093"
   ]
  },
  {
   "cell_type": "code",
   "execution_count": null,
   "id": "132502a5",
   "metadata": {},
   "outputs": [],
   "source": [
    "# s_square_pooled의 값을 구하여라\n",
    "s_square_pooled = np.round(((____) * s_square_x + (_____) * s_square_y) / (_____),2)\n",
    "print(s_square_pooled)"
   ]
  },
  {
   "cell_type": "code",
   "execution_count": null,
   "id": "d2d5b334",
   "metadata": {},
   "outputs": [],
   "source": [
    "# 신뢰구간을 구하여라\n",
    "print(np.round((x_ - y_) - _________________,2))\n",
    "print(np.round((x_ - y_) + _________________,2))"
   ]
  },
  {
   "cell_type": "markdown",
   "id": "ec3c5aa3",
   "metadata": {},
   "source": [
    "# 문제5\n",
    "\n",
    "어떤 제품을 광고하기 위하여 A 타입과 B 타입의 광고물을 제작하였다. 두 가지 광고물의 효과에 대한 반응을 10명에게 측정한 결과, 다음과 같은 자료를 얻었다.\n",
    "\n",
    "해당 자료를 참고하여 두 가지 광고물 반응 차이의 평균에 대한 90% 신뢰수준의 신뢰구간을 구하여라\n",
    "단, 두 표본의 차이 d는 정규분포를 따른다고 가정한다."
   ]
  },
  {
   "cell_type": "code",
   "execution_count": null,
   "id": "da70fdbf",
   "metadata": {},
   "outputs": [],
   "source": [
    "# 아래 링크를 참고하여 t값을 구하여라\n",
    "https://math100.tistory.com/43\n",
    "\n",
    "t = 1.833"
   ]
  },
  {
   "cell_type": "code",
   "execution_count": 81,
   "id": "690533bd",
   "metadata": {},
   "outputs": [],
   "source": [
    "# 두 표본의 차로 이루어진 데이터프레임 d의 평균(d_)과 표준편차(s)를 구하여라\n",
    "\n",
    "A = pd.DataFrame([78,63,72,89,91,49,68,76,85,55])\n",
    "B = pd.DataFrame([71,44,61,84,74,51,55,60,77,39])\n",
    "\n",
    "d = ____\n",
    "d_ = np.mean(d)\n",
    "s = np.std(d)"
   ]
  },
  {
   "cell_type": "code",
   "execution_count": null,
   "id": "802c6b9e",
   "metadata": {},
   "outputs": [],
   "source": [
    "# 신뢰구간을 구하여라\n",
    "\n",
    "n = 10\n",
    "t = 1.833\n",
    "\n",
    "print(np.round(___________,2))\n",
    "print(np.round(___________,2))"
   ]
  },
  {
   "cell_type": "markdown",
   "id": "689f9371",
   "metadata": {},
   "source": [
    "# 문제6\n",
    "\n",
    "아래 표본을 보고 각각의 \n",
    "표준편차, 표준오차, 표본오차\n",
    "를 구하시오\n",
    "\n",
    "단, 모표준편차는 5.2라고 가정한다."
   ]
  },
  {
   "cell_type": "code",
   "execution_count": null,
   "id": "ef290dd5",
   "metadata": {},
   "outputs": [],
   "source": [
    "d1 = [1,3,5,7,9,11,13,15,17]\n",
    "d2 = [2,4,6,8,10,12,14,16,18]\n",
    "d3 = [1,3,5,7,9,12,14,16,18]\n",
    "\n",
    "# 표준편차\n",
    "d1_s = np.std(d1)\n",
    "d2_s = __________\n",
    "d3_s = __________\n",
    "\n",
    "print(d1_s)\n",
    "print(d2_s)\n",
    "print(d3_s)"
   ]
  },
  {
   "cell_type": "code",
   "execution_count": null,
   "id": "a7b66b4d",
   "metadata": {},
   "outputs": [],
   "source": [
    "# 표준오차\n",
    "d_ = _________\n",
    "print(d_)"
   ]
  },
  {
   "cell_type": "code",
   "execution_count": null,
   "id": "945b5f77",
   "metadata": {},
   "outputs": [],
   "source": [
    "# 신뢰도 95%하에서의 모평균에 대한 표본오차\n",
    "\n",
    "d_s = _________\n",
    "print(d_s)"
   ]
  }
 ],
 "metadata": {
  "kernelspec": {
   "display_name": "Python 3 (ipykernel)",
   "language": "python",
   "name": "python3"
  },
  "language_info": {
   "codemirror_mode": {
    "name": "ipython",
    "version": 3
   },
   "file_extension": ".py",
   "mimetype": "text/x-python",
   "name": "python",
   "nbconvert_exporter": "python",
   "pygments_lexer": "ipython3",
   "version": "3.11.5"
  }
 },
 "nbformat": 4,
 "nbformat_minor": 5
}
