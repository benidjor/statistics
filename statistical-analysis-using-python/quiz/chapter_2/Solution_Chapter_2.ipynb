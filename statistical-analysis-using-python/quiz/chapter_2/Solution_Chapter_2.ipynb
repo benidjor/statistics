{
 "cells": [
  {
   "cell_type": "markdown",
   "id": "b454ee65",
   "metadata": {},
   "source": [
    "# 통계 스터디 Quiz"
   ]
  },
  {
   "cell_type": "code",
   "execution_count": 1,
   "id": "f2c665e8",
   "metadata": {
    "ExecuteTime": {
     "end_time": "2023-11-29T12:12:15.147793Z",
     "start_time": "2023-11-29T12:12:13.672341Z"
    }
   },
   "outputs": [],
   "source": [
    "import pandas as pd\n",
    "import numpy as np\n",
    "import matplotlib.pyplot as plt\n",
    "import seaborn as sns\n",
    "import pickle"
   ]
  },
  {
   "cell_type": "code",
   "execution_count": 2,
   "id": "cd11cfbc",
   "metadata": {
    "ExecuteTime": {
     "end_time": "2023-11-29T12:12:15.180000Z",
     "start_time": "2023-11-29T12:12:15.149240Z"
    }
   },
   "outputs": [],
   "source": [
    "with open('chapter_2.pkl', 'rb') as file:\n",
    "    chapter_2 = pickle.load(file)\n",
    "\n",
    "quiz_1_data = chapter_2['quiz_1']\n",
    "quiz_2_data = chapter_2['quiz_2']\n",
    "quiz_3_data = chapter_2['quiz_3']"
   ]
  },
  {
   "cell_type": "markdown",
   "id": "2418a243",
   "metadata": {},
   "source": [
    "---"
   ]
  },
  {
   "cell_type": "markdown",
   "id": "1737aba6",
   "metadata": {},
   "source": [
    "### 1.\n",
    "\n",
    "상자 수염 그림(box-and-whisker plot) 또는 상자 그림(box plot)은 자료의 특성을 요약하는 그래프이다. 이때 다섯 개의 숫자가 사용되는데, 각각 자료의 최대값, 최소값, 중앙값, 제 1사분위수, 제 3사분위수이다."
   ]
  },
  {
   "cell_type": "code",
   "execution_count": 3,
   "id": "cf453c74",
   "metadata": {
    "ExecuteTime": {
     "end_time": "2023-11-27T10:47:25.450202Z",
     "start_time": "2023-11-27T10:47:25.424886Z"
    }
   },
   "outputs": [
    {
     "data": {
      "text/plain": [
       "array([99, 63, 68, 61, 69, 65, 77, 82, 53, 61, 64, 91, 79, 98, 57, 99, 85,\n",
       "       69, 74, 59, 90, 61, 78, 53, 65, 51, 94, 87, 80, 51, 75, 56, 87, 95,\n",
       "       55, 83, 78, 84, 97, 63, 83, 85, 79, 93, 75, 83, 80, 94, 54, 84])"
      ]
     },
     "execution_count": 3,
     "metadata": {},
     "output_type": "execute_result"
    }
   ],
   "source": [
    "quiz_1_data"
   ]
  },
  {
   "cell_type": "markdown",
   "id": "9a0bb882",
   "metadata": {},
   "source": [
    "위의 ```quiz_1_data```에 대한 상자 그림을 그리고자 한다. 다음의 물음에 답하시오.\n",
    "\n",
    "#### (1)\n",
    "\n",
    "자료에 대한 최대값, 최소값, 중앙값, 제 1사분위수, 제 3사분위수를 구하시오."
   ]
  },
  {
   "cell_type": "code",
   "execution_count": 4,
   "id": "aedff621",
   "metadata": {
    "ExecuteTime": {
     "end_time": "2023-11-27T10:47:32.654809Z",
     "start_time": "2023-11-27T10:47:32.618840Z"
    }
   },
   "outputs": [
    {
     "data": {
      "text/html": [
       "<div>\n",
       "<style scoped>\n",
       "    .dataframe tbody tr th:only-of-type {\n",
       "        vertical-align: middle;\n",
       "    }\n",
       "\n",
       "    .dataframe tbody tr th {\n",
       "        vertical-align: top;\n",
       "    }\n",
       "\n",
       "    .dataframe thead th {\n",
       "        text-align: right;\n",
       "    }\n",
       "</style>\n",
       "<table border=\"1\" class=\"dataframe\">\n",
       "  <thead>\n",
       "    <tr style=\"text-align: right;\">\n",
       "      <th></th>\n",
       "      <th>0</th>\n",
       "    </tr>\n",
       "  </thead>\n",
       "  <tbody>\n",
       "    <tr>\n",
       "      <th>count</th>\n",
       "      <td>50.000000</td>\n",
       "    </tr>\n",
       "    <tr>\n",
       "      <th>mean</th>\n",
       "      <td>75.320000</td>\n",
       "    </tr>\n",
       "    <tr>\n",
       "      <th>std</th>\n",
       "      <td>14.500443</td>\n",
       "    </tr>\n",
       "    <tr>\n",
       "      <th>min</th>\n",
       "      <td>51.000000</td>\n",
       "    </tr>\n",
       "    <tr>\n",
       "      <th>25%</th>\n",
       "      <td>63.000000</td>\n",
       "    </tr>\n",
       "    <tr>\n",
       "      <th>50%</th>\n",
       "      <td>78.000000</td>\n",
       "    </tr>\n",
       "    <tr>\n",
       "      <th>75%</th>\n",
       "      <td>85.000000</td>\n",
       "    </tr>\n",
       "    <tr>\n",
       "      <th>max</th>\n",
       "      <td>99.000000</td>\n",
       "    </tr>\n",
       "  </tbody>\n",
       "</table>\n",
       "</div>"
      ],
      "text/plain": [
       "               0\n",
       "count  50.000000\n",
       "mean   75.320000\n",
       "std    14.500443\n",
       "min    51.000000\n",
       "25%    63.000000\n",
       "50%    78.000000\n",
       "75%    85.000000\n",
       "max    99.000000"
      ]
     },
     "execution_count": 4,
     "metadata": {},
     "output_type": "execute_result"
    }
   ],
   "source": [
    "quiz_1_data_describe = pd.DataFrame(quiz_1_data).describe()\n",
    "quiz_1_data_describe"
   ]
  },
  {
   "cell_type": "markdown",
   "id": "02d2baa7",
   "metadata": {},
   "source": [
    "pandas의 ```describe()```를 활용하면 다양한 통계 지표들을 확인할 수 있다."
   ]
  },
  {
   "cell_type": "code",
   "execution_count": 5,
   "id": "3c34f97f",
   "metadata": {
    "ExecuteTime": {
     "end_time": "2023-11-27T10:47:35.445562Z",
     "start_time": "2023-11-27T10:47:35.422437Z"
    }
   },
   "outputs": [
    {
     "name": "stdout",
     "output_type": "stream",
     "text": [
      "최대값: 99.0\n",
      "최소값: 51.0\n",
      "중앙값: 78.0\n",
      "제 1사분위수: 63.0\n",
      "제 3사분위수: 85.0\n"
     ]
    }
   ],
   "source": [
    "quiz_1_answers = {\n",
    "    '최대값': quiz_1_data_describe.loc['max'][0],\n",
    "    '최소값': quiz_1_data_describe.loc['min'][0],\n",
    "    '중앙값': quiz_1_data_describe.loc['50%'][0],\n",
    "    '제 1사분위수': quiz_1_data_describe.loc['25%'][0],\n",
    "    '제 3사분위수': quiz_1_data_describe.loc['75%'][0]\n",
    "}\n",
    "\n",
    "for key, value in quiz_1_answers.items():\n",
    "    print(f\"{key}: {round(value, 2)}\")"
   ]
  },
  {
   "cell_type": "code",
   "execution_count": 6,
   "id": "c1bde3fb",
   "metadata": {
    "ExecuteTime": {
     "end_time": "2023-11-27T10:47:37.173942Z",
     "start_time": "2023-11-27T10:47:37.158670Z"
    }
   },
   "outputs": [
    {
     "name": "stdout",
     "output_type": "stream",
     "text": [
      "최대값: 99\n",
      "최소값: 51\n",
      "중앙값: 78.0\n",
      "제 1사분위수: 63.0\n",
      "제 3사분위수: 85.0\n"
     ]
    }
   ],
   "source": [
    "quiz_1_answers = {\n",
    "    '최대값': np.max(quiz_1_data),\n",
    "    '최소값': np.min(quiz_1_data),\n",
    "    '중앙값': np.median(quiz_1_data),\n",
    "    '제 1사분위수': np.quantile(quiz_1_data, 0.25),\n",
    "    '제 3사분위수': np.quantile(quiz_1_data, 0.75)\n",
    "}\n",
    "\n",
    "for key, value in quiz_1_answers.items():\n",
    "    print(f\"{key}: {round(value, 2)}\")"
   ]
  },
  {
   "cell_type": "markdown",
   "id": "13e90676",
   "metadata": {},
   "source": [
    "혹은 numpy의 다양한 함수들을 활용할 수도 있다."
   ]
  },
  {
   "cell_type": "markdown",
   "id": "2824e26f",
   "metadata": {},
   "source": [
    "#### (2)\n",
    "\n",
    "시각화 라이브러리(matplotlib, seaborn 등)를 활용하여 상자 그림을 그리고, (1)에서 구한 값이 맞는지 검증하시오."
   ]
  },
  {
   "cell_type": "code",
   "execution_count": 7,
   "id": "48a3a153",
   "metadata": {
    "ExecuteTime": {
     "end_time": "2023-11-27T10:47:39.351532Z",
     "start_time": "2023-11-27T10:47:39.237981Z"
    }
   },
   "outputs": [
    {
     "data": {
      "image/png": "[encoded data removed]",
      "text/plain": [
       "<Figure size 640x480 with 1 Axes>"
      ]
     },
     "metadata": {},
     "output_type": "display_data"
    }
   ],
   "source": [
    "# matplotlib 활용하는 방법\n",
    "plt.boxplot(quiz_1_data)\n",
    "\n",
    "for key, value in quiz_1_answers.items():\n",
    "    plt.axhline(value, linestyle='--', color='red')\n",
    "    \n",
    "plt.show()"
   ]
  },
  {
   "cell_type": "code",
   "execution_count": 8,
   "id": "ca237465",
   "metadata": {
    "ExecuteTime": {
     "end_time": "2023-11-27T10:47:41.729161Z",
     "start_time": "2023-11-27T10:47:41.599369Z"
    }
   },
   "outputs": [
    {
     "data": {
      "image/png": "[encoded data removed]",
      "text/plain": [
       "<Figure size 640x480 with 1 Axes>"
      ]
     },
     "metadata": {},
     "output_type": "display_data"
    }
   ],
   "source": [
    "# seaborn 활용하는 방법\n",
    "sns.boxplot(quiz_1_data)\n",
    "\n",
    "for key, value in quiz_1_answers.items():\n",
    "    plt.axhline(value, linestyle='--', color='red')\n",
    "    \n",
    "plt.show()"
   ]
  },
  {
   "cell_type": "markdown",
   "id": "aca1b47f",
   "metadata": {},
   "source": [
    "---"
   ]
  },
  {
   "cell_type": "markdown",
   "id": "6c2e8165",
   "metadata": {},
   "source": [
    "### 2.\n",
    "\n",
    "어떤 IT 기업에서 신입 공채를 진행하고 있다. 공채 전형 중 코딩테스트는 다음의 규칙에 의해 진행되었다.\n",
    "\n",
    "- 응시자 수는 50명이다.\n",
    "- '언어'는 Python, Java, C 의 3가지 중 하나이다.\n",
    "- '점수'는 0 이상 100 이하의 정수이다.\n",
    "\n",
    "이 코딩테스트의 결과는 다음과 같다."
   ]
  },
  {
   "cell_type": "code",
   "execution_count": 9,
   "id": "3b7a194e",
   "metadata": {
    "ExecuteTime": {
     "end_time": "2023-11-27T10:47:44.483993Z",
     "start_time": "2023-11-27T10:47:44.466041Z"
    }
   },
   "outputs": [
    {
     "data": {
      "text/html": [
       "<div>\n",
       "<style scoped>\n",
       "    .dataframe tbody tr th:only-of-type {\n",
       "        vertical-align: middle;\n",
       "    }\n",
       "\n",
       "    .dataframe tbody tr th {\n",
       "        vertical-align: top;\n",
       "    }\n",
       "\n",
       "    .dataframe thead th {\n",
       "        text-align: right;\n",
       "    }\n",
       "</style>\n",
       "<table border=\"1\" class=\"dataframe\">\n",
       "  <thead>\n",
       "    <tr style=\"text-align: right;\">\n",
       "      <th></th>\n",
       "      <th>언어</th>\n",
       "      <th>점수</th>\n",
       "    </tr>\n",
       "  </thead>\n",
       "  <tbody>\n",
       "    <tr>\n",
       "      <th>0</th>\n",
       "      <td>Python</td>\n",
       "      <td>97</td>\n",
       "    </tr>\n",
       "    <tr>\n",
       "      <th>1</th>\n",
       "      <td>Python</td>\n",
       "      <td>28</td>\n",
       "    </tr>\n",
       "    <tr>\n",
       "      <th>2</th>\n",
       "      <td>C</td>\n",
       "      <td>33</td>\n",
       "    </tr>\n",
       "    <tr>\n",
       "      <th>3</th>\n",
       "      <td>C</td>\n",
       "      <td>75</td>\n",
       "    </tr>\n",
       "    <tr>\n",
       "      <th>4</th>\n",
       "      <td>Python</td>\n",
       "      <td>59</td>\n",
       "    </tr>\n",
       "    <tr>\n",
       "      <th>5</th>\n",
       "      <td>Java</td>\n",
       "      <td>5</td>\n",
       "    </tr>\n",
       "    <tr>\n",
       "      <th>6</th>\n",
       "      <td>Python</td>\n",
       "      <td>19</td>\n",
       "    </tr>\n",
       "    <tr>\n",
       "      <th>7</th>\n",
       "      <td>Java</td>\n",
       "      <td>20</td>\n",
       "    </tr>\n",
       "    <tr>\n",
       "      <th>8</th>\n",
       "      <td>Java</td>\n",
       "      <td>70</td>\n",
       "    </tr>\n",
       "    <tr>\n",
       "      <th>9</th>\n",
       "      <td>Java</td>\n",
       "      <td>59</td>\n",
       "    </tr>\n",
       "    <tr>\n",
       "      <th>10</th>\n",
       "      <td>Java</td>\n",
       "      <td>47</td>\n",
       "    </tr>\n",
       "    <tr>\n",
       "      <th>11</th>\n",
       "      <td>Java</td>\n",
       "      <td>23</td>\n",
       "    </tr>\n",
       "    <tr>\n",
       "      <th>12</th>\n",
       "      <td>Python</td>\n",
       "      <td>55</td>\n",
       "    </tr>\n",
       "    <tr>\n",
       "      <th>13</th>\n",
       "      <td>Python</td>\n",
       "      <td>47</td>\n",
       "    </tr>\n",
       "    <tr>\n",
       "      <th>14</th>\n",
       "      <td>Java</td>\n",
       "      <td>53</td>\n",
       "    </tr>\n",
       "    <tr>\n",
       "      <th>15</th>\n",
       "      <td>C</td>\n",
       "      <td>62</td>\n",
       "    </tr>\n",
       "    <tr>\n",
       "      <th>16</th>\n",
       "      <td>Python</td>\n",
       "      <td>17</td>\n",
       "    </tr>\n",
       "    <tr>\n",
       "      <th>17</th>\n",
       "      <td>Python</td>\n",
       "      <td>40</td>\n",
       "    </tr>\n",
       "    <tr>\n",
       "      <th>18</th>\n",
       "      <td>Java</td>\n",
       "      <td>18</td>\n",
       "    </tr>\n",
       "    <tr>\n",
       "      <th>19</th>\n",
       "      <td>C</td>\n",
       "      <td>98</td>\n",
       "    </tr>\n",
       "    <tr>\n",
       "      <th>20</th>\n",
       "      <td>Python</td>\n",
       "      <td>49</td>\n",
       "    </tr>\n",
       "    <tr>\n",
       "      <th>21</th>\n",
       "      <td>Python</td>\n",
       "      <td>85</td>\n",
       "    </tr>\n",
       "    <tr>\n",
       "      <th>22</th>\n",
       "      <td>Java</td>\n",
       "      <td>50</td>\n",
       "    </tr>\n",
       "    <tr>\n",
       "      <th>23</th>\n",
       "      <td>Python</td>\n",
       "      <td>94</td>\n",
       "    </tr>\n",
       "    <tr>\n",
       "      <th>24</th>\n",
       "      <td>Python</td>\n",
       "      <td>10</td>\n",
       "    </tr>\n",
       "    <tr>\n",
       "      <th>25</th>\n",
       "      <td>Java</td>\n",
       "      <td>7</td>\n",
       "    </tr>\n",
       "    <tr>\n",
       "      <th>26</th>\n",
       "      <td>Python</td>\n",
       "      <td>4</td>\n",
       "    </tr>\n",
       "    <tr>\n",
       "      <th>27</th>\n",
       "      <td>C</td>\n",
       "      <td>86</td>\n",
       "    </tr>\n",
       "    <tr>\n",
       "      <th>28</th>\n",
       "      <td>C</td>\n",
       "      <td>25</td>\n",
       "    </tr>\n",
       "    <tr>\n",
       "      <th>29</th>\n",
       "      <td>Python</td>\n",
       "      <td>58</td>\n",
       "    </tr>\n",
       "    <tr>\n",
       "      <th>30</th>\n",
       "      <td>Python</td>\n",
       "      <td>98</td>\n",
       "    </tr>\n",
       "    <tr>\n",
       "      <th>31</th>\n",
       "      <td>Java</td>\n",
       "      <td>50</td>\n",
       "    </tr>\n",
       "    <tr>\n",
       "      <th>32</th>\n",
       "      <td>C</td>\n",
       "      <td>82</td>\n",
       "    </tr>\n",
       "    <tr>\n",
       "      <th>33</th>\n",
       "      <td>Python</td>\n",
       "      <td>76</td>\n",
       "    </tr>\n",
       "    <tr>\n",
       "      <th>34</th>\n",
       "      <td>Python</td>\n",
       "      <td>78</td>\n",
       "    </tr>\n",
       "    <tr>\n",
       "      <th>35</th>\n",
       "      <td>C</td>\n",
       "      <td>41</td>\n",
       "    </tr>\n",
       "    <tr>\n",
       "      <th>36</th>\n",
       "      <td>Java</td>\n",
       "      <td>45</td>\n",
       "    </tr>\n",
       "    <tr>\n",
       "      <th>37</th>\n",
       "      <td>Python</td>\n",
       "      <td>69</td>\n",
       "    </tr>\n",
       "    <tr>\n",
       "      <th>38</th>\n",
       "      <td>Java</td>\n",
       "      <td>64</td>\n",
       "    </tr>\n",
       "    <tr>\n",
       "      <th>39</th>\n",
       "      <td>Python</td>\n",
       "      <td>62</td>\n",
       "    </tr>\n",
       "    <tr>\n",
       "      <th>40</th>\n",
       "      <td>C</td>\n",
       "      <td>44</td>\n",
       "    </tr>\n",
       "    <tr>\n",
       "      <th>41</th>\n",
       "      <td>Python</td>\n",
       "      <td>69</td>\n",
       "    </tr>\n",
       "    <tr>\n",
       "      <th>42</th>\n",
       "      <td>Java</td>\n",
       "      <td>30</td>\n",
       "    </tr>\n",
       "    <tr>\n",
       "      <th>43</th>\n",
       "      <td>Java</td>\n",
       "      <td>9</td>\n",
       "    </tr>\n",
       "    <tr>\n",
       "      <th>44</th>\n",
       "      <td>Python</td>\n",
       "      <td>26</td>\n",
       "    </tr>\n",
       "    <tr>\n",
       "      <th>45</th>\n",
       "      <td>Python</td>\n",
       "      <td>40</td>\n",
       "    </tr>\n",
       "    <tr>\n",
       "      <th>46</th>\n",
       "      <td>Python</td>\n",
       "      <td>12</td>\n",
       "    </tr>\n",
       "    <tr>\n",
       "      <th>47</th>\n",
       "      <td>Python</td>\n",
       "      <td>80</td>\n",
       "    </tr>\n",
       "    <tr>\n",
       "      <th>48</th>\n",
       "      <td>Python</td>\n",
       "      <td>29</td>\n",
       "    </tr>\n",
       "    <tr>\n",
       "      <th>49</th>\n",
       "      <td>C</td>\n",
       "      <td>84</td>\n",
       "    </tr>\n",
       "  </tbody>\n",
       "</table>\n",
       "</div>"
      ],
      "text/plain": [
       "        언어  점수\n",
       "0   Python  97\n",
       "1   Python  28\n",
       "2        C  33\n",
       "3        C  75\n",
       "4   Python  59\n",
       "5     Java   5\n",
       "6   Python  19\n",
       "7     Java  20\n",
       "8     Java  70\n",
       "9     Java  59\n",
       "10    Java  47\n",
       "11    Java  23\n",
       "12  Python  55\n",
       "13  Python  47\n",
       "14    Java  53\n",
       "15       C  62\n",
       "16  Python  17\n",
       "17  Python  40\n",
       "18    Java  18\n",
       "19       C  98\n",
       "20  Python  49\n",
       "21  Python  85\n",
       "22    Java  50\n",
       "23  Python  94\n",
       "24  Python  10\n",
       "25    Java   7\n",
       "26  Python   4\n",
       "27       C  86\n",
       "28       C  25\n",
       "29  Python  58\n",
       "30  Python  98\n",
       "31    Java  50\n",
       "32       C  82\n",
       "33  Python  76\n",
       "34  Python  78\n",
       "35       C  41\n",
       "36    Java  45\n",
       "37  Python  69\n",
       "38    Java  64\n",
       "39  Python  62\n",
       "40       C  44\n",
       "41  Python  69\n",
       "42    Java  30\n",
       "43    Java   9\n",
       "44  Python  26\n",
       "45  Python  40\n",
       "46  Python  12\n",
       "47  Python  80\n",
       "48  Python  29\n",
       "49       C  84"
      ]
     },
     "execution_count": 9,
     "metadata": {},
     "output_type": "execute_result"
    }
   ],
   "source": [
    "quiz_2_data"
   ]
  },
  {
   "cell_type": "markdown",
   "id": "32d5b885",
   "metadata": {},
   "source": [
    "#### (1)\n",
    "'언어' 컬럼의 도수와 상대도수를 계산하시오."
   ]
  },
  {
   "cell_type": "code",
   "execution_count": 10,
   "id": "d4314ab1",
   "metadata": {
    "ExecuteTime": {
     "end_time": "2023-11-27T10:47:48.440485Z",
     "start_time": "2023-11-27T10:47:48.397246Z"
    }
   },
   "outputs": [
    {
     "data": {
      "text/html": [
       "<div>\n",
       "<style scoped>\n",
       "    .dataframe tbody tr th:only-of-type {\n",
       "        vertical-align: middle;\n",
       "    }\n",
       "\n",
       "    .dataframe tbody tr th {\n",
       "        vertical-align: top;\n",
       "    }\n",
       "\n",
       "    .dataframe thead th {\n",
       "        text-align: right;\n",
       "    }\n",
       "</style>\n",
       "<table border=\"1\" class=\"dataframe\">\n",
       "  <thead>\n",
       "    <tr style=\"text-align: right;\">\n",
       "      <th></th>\n",
       "      <th>도수</th>\n",
       "      <th>상대도수</th>\n",
       "    </tr>\n",
       "  </thead>\n",
       "  <tbody>\n",
       "    <tr>\n",
       "      <th>Python</th>\n",
       "      <td>25</td>\n",
       "      <td>0.5</td>\n",
       "    </tr>\n",
       "    <tr>\n",
       "      <th>Java</th>\n",
       "      <td>15</td>\n",
       "      <td>0.3</td>\n",
       "    </tr>\n",
       "    <tr>\n",
       "      <th>C</th>\n",
       "      <td>10</td>\n",
       "      <td>0.2</td>\n",
       "    </tr>\n",
       "  </tbody>\n",
       "</table>\n",
       "</div>"
      ],
      "text/plain": [
       "        도수  상대도수\n",
       "Python  25   0.5\n",
       "Java    15   0.3\n",
       "C       10   0.2"
      ]
     },
     "execution_count": 10,
     "metadata": {},
     "output_type": "execute_result"
    }
   ],
   "source": [
    "quiz_2_1_answers = {\n",
    "    '도수': quiz_2_data['언어'].value_counts(),\n",
    "    '상대도수': quiz_2_data['언어'].value_counts(normalize=True)\n",
    "}\n",
    "\n",
    "pd.DataFrame(quiz_2_1_answers)"
   ]
  },
  {
   "cell_type": "markdown",
   "id": "d3d39b18",
   "metadata": {},
   "source": [
    "pandas에는 각 컬럼의 고유값의 개수를 반환하는 함수 ```value_counts()```가 있다. 이때 인자로 ```normalize=True```를 주면 비율로 반환해 준다."
   ]
  },
  {
   "cell_type": "markdown",
   "id": "6d179c2c",
   "metadata": {},
   "source": [
    "#### (2)\n",
    "이 회사는 파이썬 사용자를 우대하기 때문에, '언어'에 따른 가중치를 다음과 같이 두고 있다.\n",
    "\n",
    "```python\n",
    "weight = {\n",
    "    'Python': 1.2,\n",
    "    'Java': 0.9,\n",
    "    'C': 0.5\n",
    "}\n",
    "```\n",
    "\n",
    "전체 응시자의 점수에 대한 평균과 가중평균을 각각 구하시오."
   ]
  },
  {
   "cell_type": "code",
   "execution_count": 11,
   "id": "58ed7e8d",
   "metadata": {
    "ExecuteTime": {
     "end_time": "2023-11-27T10:47:50.847476Z",
     "start_time": "2023-11-27T10:47:50.802346Z"
    }
   },
   "outputs": [
    {
     "name": "stdout",
     "output_type": "stream",
     "text": [
      "평균: 49.62\n",
      "가중평균: 48.89\n"
     ]
    }
   ],
   "source": [
    "weight = {\n",
    "    'Python': 1.2,\n",
    "     'Java': 0.9,\n",
    "     'C': 0.5\n",
    "}\n",
    "\n",
    "quiz_2_2_answers = {\n",
    "    '평균': np.mean(quiz_2_data['점수']),\n",
    "    '가중평균': np.average(quiz_2_data['점수'], weights=quiz_2_data['언어'].map(weight))\n",
    "}\n",
    "\n",
    "for key, value in quiz_2_2_answers.items():\n",
    "    print(f\"{key}: {round(value, 2)}\")"
   ]
  },
  {
   "cell_type": "markdown",
   "id": "e7e035db",
   "metadata": {},
   "source": [
    "numpy에서 평균을 구하는 함수는 두 가지가 있다.\n",
    "- ```np.mean()```은 데이터에 대한 평균을 계산해 준다.\n",
    "- ```np.average()```는 데이터에 대한 가중평균을 계산해 준다. 이때 weights 인자로 아무 것도 안 넣으면 ```np.mean()```과 동일한 값이 계산된다."
   ]
  },
  {
   "cell_type": "markdown",
   "id": "5d907b64",
   "metadata": {},
   "source": [
    "---"
   ]
  },
  {
   "cell_type": "markdown",
   "id": "f3932263",
   "metadata": {},
   "source": [
    "### 3.\n",
    "\n",
    "K대학교에서는 다음과 같은 기준으로 상대평가하여 학점을 매긴다.\n",
    "\n",
    "|등급|비율|\n",
    "|:---:|:---:|\n",
    "|A|35%|\n",
    "|B|35%|\n",
    "|F|30%|\n",
    "\n",
    "어떤 전공 강의를 듣는 학생들 45명의 점수가 다음과 같이 산출되었다."
   ]
  },
  {
   "cell_type": "code",
   "execution_count": 12,
   "id": "15bec4f1",
   "metadata": {
    "ExecuteTime": {
     "end_time": "2023-11-27T10:47:54.060416Z",
     "start_time": "2023-11-27T10:47:54.047850Z"
    }
   },
   "outputs": [
    {
     "data": {
      "text/plain": [
       "array([99.69, 95.68, 86.94, 63.31, 88.61, 50.7 , 93.58, 95.07, 97.54,\n",
       "       69.04, 90.89, 96.9 , 70.8 , 86.13, 84.76, 75.18, 67.87, 79.74,\n",
       "       81.36, 72.94, 92.57, 68.  , 67.9 , 72.  , 54.82, 75.7 , 94.95,\n",
       "       94.98, 84.21, 65.16, 62.3 , 73.54, 80.45, 96.99, 56.99, 82.31,\n",
       "       70.75, 80.8 , 62.16, 68.12, 58.87, 67.87, 69.52, 86.73, 58.4 ])"
      ]
     },
     "execution_count": 12,
     "metadata": {},
     "output_type": "execute_result"
    }
   ],
   "source": [
    "quiz_3_data"
   ]
  },
  {
   "cell_type": "markdown",
   "id": "20ec0194",
   "metadata": {},
   "source": [
    "#### (1)\n",
    "각 등급에서 가장 낮은 점수를 가진 학생을 '수문장'이라고 부른다고 하자. A등급과 B등급의 '수문장'의 점수를 구하시오."
   ]
  },
  {
   "cell_type": "code",
   "execution_count": 13,
   "id": "fc399cbb",
   "metadata": {
    "ExecuteTime": {
     "end_time": "2023-11-27T10:47:57.020590Z",
     "start_time": "2023-11-27T10:47:56.995652Z"
    }
   },
   "outputs": [
    {
     "name": "stdout",
     "output_type": "stream",
     "text": [
      "A등급 수문장: 84.76점\n",
      "B등급 수문장: 69.04점\n"
     ]
    }
   ],
   "source": [
    "quiz_3_1_answers = {\n",
    "    'A등급 수문장': np.min(quiz_3_data[quiz_3_data >= np.percentile(quiz_3_data, 65)]),\n",
    "    'B등급 수문장': np.min(quiz_3_data[quiz_3_data >= np.percentile(quiz_3_data, 30)])\n",
    "}\n",
    "\n",
    "for key, value in quiz_3_1_answers.items():\n",
    "    print(f\"{key}: {value}점\")"
   ]
  },
  {
   "cell_type": "markdown",
   "id": "c5da7ff8",
   "metadata": {},
   "source": [
    "A등급에 해당하는 학생은 65% 백분위수보다 큰 점수를 가진 학생이다. A등급의 수문장은 A등급에 해당하는 학생들 중 가장 낮은 점수를 가진 학생이다. 백분위수 임계치를 계산해 주는 함수로는 numpy의 ```np.quantile()```을 활용할 수 있고, boolean indexing으로 이 임계치보다 큰 값을 가진 학생들을 찾아낼 수 있다."
   ]
  },
  {
   "cell_type": "markdown",
   "id": "04a6cda2",
   "metadata": {},
   "source": [
    "#### (2)\n",
    "응급한 전염병의 사유로 정상적인 수업 진행이 어려워지면서, K대학교에서는 상대평가를 대신해 절대평가 성적 산출을 시행하기로 하였다.\n",
    "\n",
    "|등급|점수|\n",
    "|:---:|:---:|\n",
    "|A|90점 이상|\n",
    "|B|80점 이상 90점 미만|\n",
    "|C|70점 이상 80점 미만|\n",
    "|D|60점 이상 70점 미만|\n",
    "|F|60점 미만|\n",
    "\n",
    "절대평가를 시행할 때 각 등급에 대한 도수분포표와 히스토그램을 그리시오."
   ]
  },
  {
   "cell_type": "code",
   "execution_count": 14,
   "id": "77beab74",
   "metadata": {
    "ExecuteTime": {
     "end_time": "2023-11-27T10:48:00.293096Z",
     "start_time": "2023-11-27T10:48:00.268306Z"
    }
   },
   "outputs": [
    {
     "data": {
      "text/html": [
       "<div>\n",
       "<style scoped>\n",
       "    .dataframe tbody tr th:only-of-type {\n",
       "        vertical-align: middle;\n",
       "    }\n",
       "\n",
       "    .dataframe tbody tr th {\n",
       "        vertical-align: top;\n",
       "    }\n",
       "\n",
       "    .dataframe thead th {\n",
       "        text-align: right;\n",
       "    }\n",
       "</style>\n",
       "<table border=\"1\" class=\"dataframe\">\n",
       "  <thead>\n",
       "    <tr style=\"text-align: right;\">\n",
       "      <th></th>\n",
       "      <th>도수</th>\n",
       "    </tr>\n",
       "    <tr>\n",
       "      <th>계급</th>\n",
       "      <th></th>\n",
       "    </tr>\n",
       "  </thead>\n",
       "  <tbody>\n",
       "    <tr>\n",
       "      <th>0 ~ 60</th>\n",
       "      <td>5</td>\n",
       "    </tr>\n",
       "    <tr>\n",
       "      <th>60 ~ 70</th>\n",
       "      <td>11</td>\n",
       "    </tr>\n",
       "    <tr>\n",
       "      <th>70 ~ 80</th>\n",
       "      <td>8</td>\n",
       "    </tr>\n",
       "    <tr>\n",
       "      <th>80 ~ 90</th>\n",
       "      <td>10</td>\n",
       "    </tr>\n",
       "    <tr>\n",
       "      <th>90 ~ 100</th>\n",
       "      <td>11</td>\n",
       "    </tr>\n",
       "  </tbody>\n",
       "</table>\n",
       "</div>"
      ],
      "text/plain": [
       "          도수\n",
       "계급          \n",
       "0 ~ 60     5\n",
       "60 ~ 70   11\n",
       "70 ~ 80    8\n",
       "80 ~ 90   10\n",
       "90 ~ 100  11"
      ]
     },
     "execution_count": 14,
     "metadata": {},
     "output_type": "execute_result"
    }
   ],
   "source": [
    "bins_range = [0] + [i for i in range(60, 101, 10)] #등급 기준\n",
    "\n",
    "hist, bins = np.histogram(quiz_3_data, bins_range)\n",
    "bins_to_str = [f'{bins[i]} ~ {bins[i + 1]}' for i in range(len(bins) - 1)]\n",
    "\n",
    "pd.DataFrame({\n",
    "    '계급': bins_to_str,\n",
    "    '도수': hist\n",
    "}).set_index('계급')"
   ]
  },
  {
   "cell_type": "markdown",
   "id": "9060e8a8",
   "metadata": {},
   "source": [
    "계급과 도수는 numpy의 ```np.histogram()```으로 쉽게 구할 수 있다. 이때 계급 구간은 직접 설정하여 넣어줄 수 있다. 이 문제에서는 각 등급에 대한 계급 구간이 정해져 있으므로 리스트 형식으로 넘겨주면 된다. 이때 bins는 끝 점으로 주기 때문에 구간 수에 비해 하나가 많다. 따라서 '구간의 시작 ~ 구간의 끝' 형태로 변환해서 넣어줘야 한다."
   ]
  },
  {
   "cell_type": "code",
   "execution_count": 15,
   "id": "375f9186",
   "metadata": {
    "ExecuteTime": {
     "end_time": "2023-11-27T10:48:03.749978Z",
     "start_time": "2023-11-27T10:48:03.650480Z"
    }
   },
   "outputs": [
    {
     "data": {
      "image/png": "[encoded data removed]",
      "text/plain": [
       "<Figure size 640x480 with 1 Axes>"
      ]
     },
     "metadata": {},
     "output_type": "display_data"
    }
   ],
   "source": [
    "plt.hist(quiz_3_data, bins)\n",
    "\n",
    "plt.xticks(bins)\n",
    "plt.show()"
   ]
  },
  {
   "cell_type": "markdown",
   "id": "32aa6868",
   "metadata": {},
   "source": [
    "히스토그램은 matplotlib의 ```plt.hist()```를 이용해서 그릴 수 있다."
   ]
  },
  {
   "cell_type": "markdown",
   "id": "0ce4376a",
   "metadata": {},
   "source": [
    "#### (3)\n",
    "K대학교에서는 평점을 매길 때 다음과 같은 가중치를 적용한다.\n",
    "\n",
    "|등급|가중치|\n",
    "|:---:|:---:|\n",
    "|A|4.5|\n",
    "|B|3.5|\n",
    "|C|2.5|\n",
    "|D|1.5|\n",
    "|F|0|\n",
    "\n",
    "(1)에서의 상대평가안과 (2)에서의 절대평가안에 대하여, 전체 학생들의 평점의 평균을 각각 계산하시오."
   ]
  },
  {
   "cell_type": "code",
   "execution_count": 3,
   "id": "b622a04d",
   "metadata": {
    "ExecuteTime": {
     "end_time": "2023-11-29T12:12:22.877852Z",
     "start_time": "2023-11-29T12:12:22.841910Z"
    }
   },
   "outputs": [
    {
     "name": "stdout",
     "output_type": "stream",
     "text": [
      "상대평가: 2.77\n",
      "절대평가: 2.69\n"
     ]
    }
   ],
   "source": [
    "scores = pd.DataFrame({\n",
    "    '상대평가': [\n",
    "        4.5 if score >= np.percentile(quiz_3_data, 65)\n",
    "        else 3.5 if score >= np.percentile(quiz_3_data, 30)\n",
    "        else 0 for score in quiz_3_data\n",
    "    ],\n",
    "    '절대평가': [\n",
    "        4.5 if score >= 90 else 3.5 if score >= 80 else 2.5 if score >= 70\n",
    "        else 1.5 if score >= 60 else 0 for score in quiz_3_data\n",
    "    ]\n",
    "})\n",
    "\n",
    "quiz_3_3_answers = {\n",
    "    '상대평가': scores['상대평가'].mean(),\n",
    "    '절대평가': scores['절대평가'].mean()\n",
    "}\n",
    "\n",
    "for key, value in quiz_3_3_answers.items():\n",
    "    print(f\"{key}: {round(value, 2)}\")"
   ]
  },
  {
   "cell_type": "markdown",
   "id": "807e44dd",
   "metadata": {},
   "source": [
    "학생들의 점수를 상대평가, 절대평가 각각에 대한 등급으로 변환한 뒤 평균을 구하면 된다."
   ]
  },
  {
   "cell_type": "markdown",
   "id": "6b4c33b2",
   "metadata": {},
   "source": [
    "---"
   ]
  },
  {
   "cell_type": "markdown",
   "id": "bd59f625",
   "metadata": {},
   "source": [
    "### Appendix"
   ]
  },
  {
   "cell_type": "code",
   "execution_count": 2,
   "id": "53bb2e56",
   "metadata": {
    "ExecuteTime": {
     "end_time": "2023-11-27T10:46:59.930374Z",
     "start_time": "2023-11-27T10:46:59.912369Z"
    }
   },
   "outputs": [],
   "source": [
    "# 1번 데이터 생성\n",
    "np.random.seed(826)\n",
    "quiz_1_data = np.random.randint(50, 100, 50)"
   ]
  },
  {
   "cell_type": "code",
   "execution_count": 3,
   "id": "7064825f",
   "metadata": {
    "ExecuteTime": {
     "end_time": "2023-11-27T10:47:00.907901Z",
     "start_time": "2023-11-27T10:47:00.884132Z"
    }
   },
   "outputs": [],
   "source": [
    "# 2번 데이터 생성\n",
    "np.random.seed(826)\n",
    "quiz_2_language = ['Python' for i in range(25)] + ['Java' for i in range(15)] + ['C' for i in range(10)]\n",
    "np.random.shuffle(quiz_2_language)\n",
    "quiz_2_score = np.random.randint(0, 101, 50)\n",
    "quiz_2_data = pd.DataFrame({'언어': quiz_2_language, '점수': quiz_2_score})"
   ]
  },
  {
   "cell_type": "code",
   "execution_count": 4,
   "id": "f32cca3b",
   "metadata": {
    "ExecuteTime": {
     "end_time": "2023-11-27T10:47:01.654956Z",
     "start_time": "2023-11-27T10:47:01.635720Z"
    }
   },
   "outputs": [],
   "source": [
    "# 3번 데이터 생성\n",
    "np.random.seed(826)\n",
    "quiz_3_data = np.round(np.random.rand(45) * 100, 2)\n",
    "quiz_3_data[quiz_3_data < 20] *= 5\n",
    "quiz_3_data[quiz_3_data < 25] *= 4\n",
    "quiz_3_data[quiz_3_data < 33] *= 3\n",
    "quiz_3_data[quiz_3_data < 50] *= 2"
   ]
  },
  {
   "cell_type": "code",
   "execution_count": 6,
   "id": "fc000738",
   "metadata": {
    "ExecuteTime": {
     "end_time": "2023-11-27T10:47:10.578998Z",
     "start_time": "2023-11-27T10:47:10.555489Z"
    }
   },
   "outputs": [],
   "source": [
    "# 데이터 합쳐서 저장\n",
    "chapter_2 = {\n",
    "    'quiz_1': quiz_1_data,\n",
    "    'quiz_2': quiz_2_data,\n",
    "    'quiz_3': quiz_3_data\n",
    "}\n",
    "\n",
    "with open('chapter_2.pkl', 'wb') as file:\n",
    "    pickle.dump(chapter_2, file)"
   ]
  }
 ],
 "metadata": {
  "kernelspec": {
   "display_name": "Python 3 (ipykernel)",
   "language": "python",
   "name": "python3"
  },
  "language_info": {
   "codemirror_mode": {
    "name": "ipython",
    "version": 3
   },
   "file_extension": ".py",
   "mimetype": "text/x-python",
   "name": "python",
   "nbconvert_exporter": "python",
   "pygments_lexer": "ipython3",
   "version": "3.9.16"
  },
  "toc": {
   "base_numbering": 1,
   "nav_menu": {},
   "number_sections": false,
   "sideBar": true,
   "skip_h1_title": false,
   "title_cell": "Table of Contents",
   "title_sidebar": "Contents",
   "toc_cell": false,
   "toc_position": {},
   "toc_section_display": true,
   "toc_window_display": false
  }
 },
 "nbformat": 4,
 "nbformat_minor": 5
}
